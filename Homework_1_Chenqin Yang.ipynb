{
 "cells": [
  {
   "cell_type": "markdown",
   "metadata": {},
   "source": [
    "# DSGA-1011 Homework 1"
   ]
  },
  {
   "cell_type": "markdown",
   "metadata": {},
   "source": [
    "## Load the Data"
   ]
  },
  {
   "cell_type": "code",
   "execution_count": 178,
   "metadata": {},
   "outputs": [],
   "source": [
    "import os\n",
    "from random import *\n",
    "from nose.tools import assert_equal\n",
    "from tqdm import tqdm_notebook\n",
    "import pickle as pkl\n",
    "import torch\n",
    "import torch.nn as nn\n",
    "import torch.nn.functional as F\n",
    "import numpy as np\n",
    "from nltk import ngrams\n",
    "import matplotlib.pyplot as plt\n",
    "import spacy\n",
    "import string\n",
    "from collections import Counter"
   ]
  },
  {
   "cell_type": "code",
   "execution_count": 2,
   "metadata": {},
   "outputs": [],
   "source": [
    "# Import data\n",
    "train_pos_path = './aclImdb/train/pos/'\n",
    "train_neg_path = './aclImdb/train/neg/'\n",
    "test_pos_path = './aclImdb/test/pos/'\n",
    "test_neg_path = './aclImdb/test/neg/'\n",
    "\n",
    "# merge the file contents into the list\n",
    "# assign 1 to positive reviews and 0 to negatie reviews\n",
    "def file2list(path,y):\n",
    "    file2list = []\n",
    "    for file in os.listdir(path):\n",
    "        with open(path+file,'r') as filecontent:\n",
    "            file2list.append((filecontent.read(),y))    \n",
    "    return file2list\n",
    "\n",
    "train_pos = file2list(train_pos_path,1)\n",
    "train_neg = file2list(train_neg_path,0)\n",
    "test_pos = file2list(test_pos_path,1)\n",
    "test_neg = file2list(test_neg_path,0)"
   ]
  },
  {
   "cell_type": "code",
   "execution_count": 3,
   "metadata": {},
   "outputs": [
    {
     "name": "stdout",
     "output_type": "stream",
     "text": [
      "The size of train_pos is 12500\n",
      "The size of train_neg is 12500\n",
      "The size of test_pos is 12500\n",
      "The size of test_neg is 12500\n"
     ]
    }
   ],
   "source": [
    "# Check the size of each loaded list\n",
    "print('The size of train_pos is {}'.format(len(train_pos)))\n",
    "print('The size of train_neg is {}'.format(len(train_neg)))\n",
    "print('The size of test_pos is {}'.format(len(test_pos)))\n",
    "print('The size of test_neg is {}'.format(len(test_neg)))"
   ]
  },
  {
   "cell_type": "code",
   "execution_count": 4,
   "metadata": {},
   "outputs": [],
   "source": [
    "def get_data_target(dataset_pos,dataset_neg):\n",
    "    dataset = dataset_pos + dataset_neg\n",
    "    dataset_data = []\n",
    "    dataset_target = []\n",
    "    for review in dataset:\n",
    "        dataset_data.append(review[0])\n",
    "        dataset_target.append(review[1])\n",
    "    return dataset_data, dataset_target\n",
    "\n",
    "train_data1, train_target = get_data_target(train_pos,train_neg)\n",
    "test_data, test_target = get_data_target(test_pos,test_neg)"
   ]
  },
  {
   "cell_type": "code",
   "execution_count": 5,
   "metadata": {},
   "outputs": [],
   "source": [
    "# check data and targets are created correctly \n",
    "# no errors should rise\n",
    "a = randint(0,len(train_pos))\n",
    "b = 12500 + a\n",
    "assert_equal(train_pos[a][0],train_data1[a])\n",
    "assert_equal(train_neg[a][0],train_data1[b])\n",
    "assert_equal(test_pos[a][0],test_data[a])\n",
    "assert_equal(test_neg[a][0],test_data[b])"
   ]
  },
  {
   "cell_type": "code",
   "execution_count": 6,
   "metadata": {},
   "outputs": [
    {
     "name": "stdout",
     "output_type": "stream",
     "text": [
      "The size of train_data is 25000\n",
      "The size of train_target is 25000\n",
      "The size of test_data is 25000\n",
      "The size of test_target is 25000\n"
     ]
    }
   ],
   "source": [
    "print('The size of train_data is {}'.format(len(train_data1)))\n",
    "print('The size of train_target is {}'.format(len(train_target)))\n",
    "print('The size of test_data is {}'.format(len(test_data)))\n",
    "print('The size of test_target is {}'.format(len(test_target)))"
   ]
  },
  {
   "cell_type": "code",
   "execution_count": 7,
   "metadata": {
    "scrolled": true
   },
   "outputs": [
    {
     "name": "stdout",
     "output_type": "stream",
     "text": [
      "Train dataset size is 20000\n",
      "Validation dataset size is 5000\n",
      "Test dataset size is 25000\n"
     ]
    }
   ],
   "source": [
    "# Split train data into actual train and validation sets\n",
    "train_split = 20000\n",
    "train_data = train_data1[:train_split]\n",
    "train_targets = train_target[:train_split]\n",
    "\n",
    "val_data = train_data1[train_split:]\n",
    "val_targets = train_target[train_split:]\n",
    "\n",
    "test_data = test_data\n",
    "test_targets = test_target\n",
    "\n",
    "print (\"Train dataset size is {}\".format(len(train_data)))\n",
    "print (\"Validation dataset size is {}\".format(len(val_data)))\n",
    "print (\"Test dataset size is {}\".format(len(test_data)))"
   ]
  },
  {
   "cell_type": "code",
   "execution_count": 8,
   "metadata": {},
   "outputs": [],
   "source": [
    "# Remove HTML tag\n",
    "train_data = [s.replace('<br />', ' ') for s in train_data]\n",
    "train_data = [s.replace('  ', ' ') for s in train_data]\n",
    "\n",
    "val_data = [s.replace('<br />', ' ') for s in val_data]\n",
    "val_data = [s.replace('  ', ' ') for s in val_data]\n",
    "\n",
    "test_data = [s.replace('<br />', ' ') for s in test_data]\n",
    "test_data = [s.replace('  ', ' ') for s in test_data]"
   ]
  },
  {
   "cell_type": "code",
   "execution_count": 9,
   "metadata": {
    "scrolled": true
   },
   "outputs": [
    {
     "name": "stdout",
     "output_type": "stream",
     "text": [
      "Oh, the sixties. There were some interesting films. I was more of a movie goer then. I now enjoy renting movies and relaxing in my home rather than going to the theater. I also saw this short film, \" The Legend of the Boy and the Eagle\". I have been searching for this film for years. It was truly inspiring. Surprisingly, I was finally able to gather more information from your site. Thank You........ I'm surprised to find out that this short film was an opening for a Disney picture. I too did not remember the Disney film. I did not even remember that it was an opening film for Disney. I truly wish they would show this on TV sometime. I wonder if Disey holds the rights to this film? Is it available on DVD? This is a must see for all generations!!!\n"
     ]
    }
   ],
   "source": [
    "# Random sample from train dataset\n",
    "import random\n",
    "print (train_data[random.randint(0, len(train_data) - 1)])"
   ]
  },
  {
   "cell_type": "markdown",
   "metadata": {},
   "source": [
    "## Tokenization"
   ]
  },
  {
   "cell_type": "markdown",
   "metadata": {},
   "source": [
    "## 1-gram"
   ]
  },
  {
   "cell_type": "code",
   "execution_count": 10,
   "metadata": {},
   "outputs": [],
   "source": [
    "# Let's write the tokenization function \n",
    "# Load English tokenizer, tagger, parser, NER and word vectors\n",
    "tokenizer = spacy.load('en_core_web_sm')\n",
    "punctuations = string.punctuation\n",
    "\n",
    "# lowercase and remove punctuation\n",
    "def tokenize(sent):\n",
    "    tokens = tokenizer(sent)\n",
    "    return [token.text.lower() for token in tokens if (token.text not in punctuations)]"
   ]
  },
  {
   "cell_type": "code",
   "execution_count": 11,
   "metadata": {},
   "outputs": [],
   "source": [
    "# Alternatively try running the following multi-threaded version of tokenization\n",
    "# Credit to Ilya Kulikov\n",
    "def lower_case_remove_punc(parsed):\n",
    "    return [token.text.lower() for token in parsed if (token.text not in punctuations)]\n",
    "\n",
    "\n",
    "def tokenize_dataset(dataset):\n",
    "    token_dataset = []\n",
    "    # we are keeping track of all tokens in dataset\n",
    "    # in order to create vocabulary later\n",
    "    all_tokens = []\n",
    "\n",
    "    for sample in tqdm_notebook(tokenizer.pipe(dataset, disable=['parser', 'tagger', 'ner'], \n",
    "                                               batch_size=512, n_threads=1)):\n",
    "        tokens = lower_case_remove_punc(sample)\n",
    "\n",
    "        token_dataset.append(tokens)\n",
    "        all_tokens += tokens\n",
    "\n",
    "    return token_dataset, all_tokens\n",
    "\n"
   ]
  },
  {
   "cell_type": "code",
   "execution_count": null,
   "metadata": {},
   "outputs": [],
   "source": [
    "#train set tokens\n",
    "print (\"Tokenizing train data\")\n",
    "train_data_tokens, all_train_tokens = tokenize_dataset(train_data)\n",
    "pkl.dump(train_data_tokens, open(\"train_data_tokens.p\", \"wb\"))\n",
    "pkl.dump(all_train_tokens, open(\"all_train_tokens.p\", \"wb\"))\n",
    "\n",
    "#val set tokens\n",
    "print (\"Tokenizing val data\")\n",
    "val_data_tokens, _ = tokenize_dataset(val_data)\n",
    "pkl.dump(val_data_tokens, open(\"val_data_tokens.p\", \"wb\"))\n",
    "\n",
    "#test set tokens\n",
    "print (\"Tokenizing test data\")\n",
    "test_data_tokens, _ = tokenize_dataset(test_data)\n",
    "pkl.dump(test_data_tokens, open(\"test_data_tokens.p\", \"wb\"))"
   ]
  },
  {
   "cell_type": "code",
   "execution_count": null,
   "metadata": {},
   "outputs": [],
   "source": [
    "# No HTML\n",
    "#train set tokens\n",
    "print (\"Tokenizing train data\")\n",
    "train_data_tokens_noHTML, all_train_tokens_noHTML = tokenize_dataset(train_data)\n",
    "pkl.dump(train_data_tokens_noHTML, open(\"train_data_tokens_noHTML.p\", \"wb\"))\n",
    "pkl.dump(all_train_tokens_noHTML, open(\"all_train_tokens_noHTML.p\", \"wb\"))\n",
    "\n",
    "#val set tokens\n",
    "print (\"Tokenizing val data\")\n",
    "val_data_tokens_noHTML, _ = tokenize_dataset(val_data)\n",
    "pkl.dump(val_data_tokens_noHTML, open(\"val_data_tokens_noHTML.p\", \"wb\"))\n",
    "\n",
    "#test set tokens\n",
    "print (\"Tokenizing test data\")\n",
    "test_data_tokens_noHTML, _ = tokenize_dataset(test_data)\n",
    "pkl.dump(test_data_tokens_noHTML, open(\"test_data_tokens_noHTML.p\", \"wb\"))"
   ]
  },
  {
   "cell_type": "code",
   "execution_count": 22,
   "metadata": {
    "scrolled": true
   },
   "outputs": [
    {
     "name": "stdout",
     "output_type": "stream",
     "text": [
      "Train dataset size is 20000\n",
      "Val dataset size is 5000\n",
      "Test dataset size is 25000\n",
      "Total number of tokens in train dataset is 4827560\n"
     ]
    }
   ],
   "source": [
    "# Then, load preprocessed train, val and test datasets\n",
    "train_data_tokens = pkl.load(open(\"train_data_tokens.p\", \"rb\"))\n",
    "all_train_tokens = pkl.load(open(\"all_train_tokens.p\", \"rb\"))\n",
    "\n",
    "val_data_tokens = pkl.load(open(\"val_data_tokens.p\", \"rb\"))\n",
    "test_data_tokens = pkl.load(open(\"test_data_tokens.p\", \"rb\"))\n",
    "\n",
    "# double checking\n",
    "print (\"Train dataset size is {}\".format(len(train_data_tokens)))\n",
    "print (\"Val dataset size is {}\".format(len(val_data_tokens)))\n",
    "print (\"Test dataset size is {}\".format(len(test_data_tokens)))\n",
    "\n",
    "print (\"Total number of tokens in train dataset is {}\".format(len(all_train_tokens)))"
   ]
  },
  {
   "cell_type": "code",
   "execution_count": 31,
   "metadata": {},
   "outputs": [
    {
     "name": "stdout",
     "output_type": "stream",
     "text": [
      "Train dataset size is 20000\n",
      "Val dataset size is 5000\n",
      "Test dataset size is 25000\n",
      "Total number of tokens in train dataset is 4780483\n"
     ]
    }
   ],
   "source": [
    "# No HTML\n",
    "# Then, load preprocessed train, val and test datasets\n",
    "train_data_tokens = pkl.load(open(\"train_data_tokens_noHTML.p\", \"rb\"))\n",
    "all_train_tokens = pkl.load(open(\"all_train_tokens_noHTML.p\", \"rb\"))\n",
    "\n",
    "val_data_tokens = pkl.load(open(\"val_data_tokens_noHTML.p\", \"rb\"))\n",
    "test_data_tokens = pkl.load(open(\"test_data_tokens_noHTML.p\", \"rb\"))\n",
    "\n",
    "# double checking\n",
    "print (\"Train dataset size is {}\".format(len(train_data_tokens)))\n",
    "print (\"Val dataset size is {}\".format(len(val_data_tokens)))\n",
    "print (\"Test dataset size is {}\".format(len(test_data_tokens)))\n",
    "\n",
    "print (\"Total number of tokens in train dataset is {}\".format(len(all_train_tokens)))"
   ]
  },
  {
   "cell_type": "code",
   "execution_count": 32,
   "metadata": {},
   "outputs": [],
   "source": [
    "max_vocab_size = 10000\n",
    "# save index 0 for unk and 1 for pad\n",
    "PAD_IDX = 0\n",
    "UNK_IDX = 1\n",
    "\n",
    "def build_vocab(all_tokens):\n",
    "    # Returns:\n",
    "    # id2token: list of tokens, where id2token[i] returns token that corresponds to token i\n",
    "    # token2id: dictionary where keys represent tokens and corresponding values represent indices\n",
    "    token_counter = Counter(all_tokens)\n",
    "    vocab, count = zip(*token_counter.most_common(max_vocab_size))\n",
    "    id2token = list(vocab)\n",
    "    token2id = dict(zip(vocab, range(2,2+len(vocab)))) \n",
    "    id2token = ['<pad>', '<unk>'] + id2token\n",
    "    token2id['<pad>'] = PAD_IDX \n",
    "    token2id['<unk>'] = UNK_IDX\n",
    "    return token2id, id2token\n",
    "\n",
    "token2id, id2token = build_vocab(all_train_tokens)"
   ]
  },
  {
   "cell_type": "code",
   "execution_count": 33,
   "metadata": {},
   "outputs": [
    {
     "name": "stdout",
     "output_type": "stream",
     "text": [
      "Token id 8187 ; token forgets\n",
      "Token forgets; token id 8187\n"
     ]
    }
   ],
   "source": [
    "# Lets check the dictionary by loading random token from it\n",
    "\n",
    "random_token_id = randint(0, len(id2token)-1)\n",
    "random_token = id2token[random_token_id]\n",
    "\n",
    "print (\"Token id {} ; token {}\".format(random_token_id, id2token[random_token_id]))\n",
    "print (\"Token {}; token id {}\".format(random_token, token2id[random_token]))"
   ]
  },
  {
   "cell_type": "code",
   "execution_count": 34,
   "metadata": {},
   "outputs": [
    {
     "name": "stdout",
     "output_type": "stream",
     "text": [
      "Train dataset size is 20000\n",
      "Val dataset size is 5000\n",
      "Test dataset size is 25000\n"
     ]
    }
   ],
   "source": [
    "# convert token to id in the dataset\n",
    "def token2index_dataset(tokens_data):\n",
    "    indices_data = []\n",
    "    for tokens in tokens_data:\n",
    "        index_list = [token2id[token] if token in token2id else UNK_IDX for token in tokens]\n",
    "        indices_data.append(index_list)\n",
    "    return indices_data\n",
    "\n",
    "train_data_indices = token2index_dataset(train_data_tokens)\n",
    "val_data_indices = token2index_dataset(val_data_tokens)\n",
    "test_data_indices = token2index_dataset(test_data_tokens)\n",
    "\n",
    "# double checking\n",
    "print (\"Train dataset size is {}\".format(len(train_data_indices)))\n",
    "print (\"Val dataset size is {}\".format(len(val_data_indices)))\n",
    "print (\"Test dataset size is {}\".format(len(test_data_indices)))"
   ]
  },
  {
   "cell_type": "markdown",
   "metadata": {},
   "source": [
    "## Pytorch Dataloader"
   ]
  },
  {
   "cell_type": "code",
   "execution_count": 35,
   "metadata": {},
   "outputs": [],
   "source": [
    "MAX_SENTENCE_LENGTH = 500\n",
    "\n",
    "import numpy as np\n",
    "import torch\n",
    "from torch.utils.data import Dataset\n",
    "\n",
    "class IMDBDataset(Dataset):\n",
    "    \"\"\"\n",
    "    Class that represents a train/validation/test dataset that's readable for PyTorch\n",
    "    Note that this class inherits torch.utils.data.Dataset\n",
    "    \"\"\"\n",
    "    \n",
    "    def __init__(self, data_list, target_list):\n",
    "        \"\"\"\n",
    "        @param data_list: list of IMDB tokens \n",
    "        @param target_list: list of IMDB targets \n",
    "\n",
    "        \"\"\"\n",
    "        self.data_list = data_list\n",
    "        self.target_list = target_list\n",
    "        assert (len(self.data_list) == len(self.target_list))\n",
    "\n",
    "    def __len__(self):\n",
    "        return len(self.data_list)\n",
    "        \n",
    "    def __getitem__(self, key):\n",
    "        \"\"\"\n",
    "        Triggered when you call dataset[i]\n",
    "        \"\"\"\n",
    "        \n",
    "        token_idx = self.data_list[key][:MAX_SENTENCE_LENGTH]\n",
    "        label = self.target_list[key]\n",
    "        return [token_idx, len(token_idx), label]\n",
    "\n",
    "def IMDB_collate_func(batch):\n",
    "    \"\"\"\n",
    "    Customized function for DataLoader that dynamically pads the batch so that all \n",
    "    data have the same length\n",
    "    \"\"\"\n",
    "    data_list = []\n",
    "    label_list = []\n",
    "    length_list = []\n",
    "    #print(\"collate batch: \", batch[0][0])\n",
    "    #batch[0][0] = batch[0][0][:MAX_SENTENCE_LENGTH]\n",
    "    for datum in batch:\n",
    "        label_list.append(datum[2])\n",
    "        length_list.append(datum[1])\n",
    "    # padding\n",
    "    for datum in batch:\n",
    "        padded_vec = np.pad(np.array(datum[0]), \n",
    "                                pad_width=((0,MAX_SENTENCE_LENGTH-datum[1])), \n",
    "                                mode=\"constant\", constant_values=0)\n",
    "        data_list.append(padded_vec)\n",
    "    return [torch.from_numpy(np.array(data_list)), torch.LongTensor(length_list), torch.LongTensor(label_list)]\n",
    "\n",
    "# create pytorch dataloader\n",
    "#train_loader = IMDBDataset(train_data_indices, train_targets)\n",
    "#val_loader = IMDBDataset(val_data_indices, val_targets)\n",
    "#test_loader = IMDBDataset(test_data_indices, test_targets)\n",
    "\n",
    "BATCH_SIZE = 50\n",
    "train_dataset = IMDBDataset(train_data_indices, train_targets)\n",
    "train_loader = torch.utils.data.DataLoader(dataset=train_dataset, \n",
    "                                           batch_size=BATCH_SIZE,\n",
    "                                           collate_fn=IMDB_collate_func,\n",
    "                                           shuffle=True)\n",
    "\n",
    "val_dataset = IMDBDataset(val_data_indices, val_targets)\n",
    "val_loader = torch.utils.data.DataLoader(dataset=val_dataset, \n",
    "                                           batch_size=BATCH_SIZE,\n",
    "                                           collate_fn=IMDB_collate_func,\n",
    "                                           shuffle=True)\n",
    "\n",
    "test_dataset = IMDBDataset(test_data_indices, test_targets)\n",
    "test_loader = torch.utils.data.DataLoader(dataset=test_dataset, \n",
    "                                           batch_size=BATCH_SIZE,\n",
    "                                           collate_fn=IMDB_collate_func,\n",
    "                                           shuffle=False)\n",
    "\n",
    "# for i, (data, lengths, labels) in enumerate(train_loader):\n",
    "#    print (data)\n",
    "#    print (labels)\n",
    "#    break"
   ]
  },
  {
   "cell_type": "markdown",
   "metadata": {},
   "source": [
    "## Bag-of-Words Model"
   ]
  },
  {
   "cell_type": "code",
   "execution_count": 36,
   "metadata": {},
   "outputs": [],
   "source": [
    "class BagOfWords(nn.Module):\n",
    "    \"\"\"\n",
    "    BagOfWords classification model\n",
    "    \"\"\"\n",
    "    def __init__(self, vocab_size, emb_dim):\n",
    "        \"\"\"\n",
    "        @param vocab_size: size of the vocabulary. \n",
    "        @param emb_dim: size of the word embedding\n",
    "        \"\"\"\n",
    "        super(BagOfWords, self).__init__()\n",
    "        # pay attention to padding_idx \n",
    "        self.embed = nn.Embedding(vocab_size, emb_dim, padding_idx=0)\n",
    "        self.linear = nn.Linear(emb_dim,20)\n",
    "    \n",
    "    def forward(self, data, length):\n",
    "        \"\"\"\n",
    "        \n",
    "        @param data: matrix of size (batch_size, max_sentence_length). Each row in data represents a \n",
    "            review that is represented using n-gram index. Note that they are padded to have same length.\n",
    "        @param length: an int tensor of size (batch_size), which represents the non-trivial (excludes padding)\n",
    "            length of each sentences in the data.\n",
    "        \"\"\"\n",
    "        out = self.embed(data)\n",
    "        out = torch.sum(out, dim=1)\n",
    "        out /= length.view(length.size()[0],1).expand_as(out).float()\n",
    "     \n",
    "        # return logits\n",
    "        out = self.linear(out.float())\n",
    "        return out\n"
   ]
  },
  {
   "cell_type": "code",
   "execution_count": 37,
   "metadata": {},
   "outputs": [],
   "source": [
    "emb_dim = 100\n",
    "model = BagOfWords(len(id2token), emb_dim)"
   ]
  },
  {
   "cell_type": "code",
   "execution_count": 38,
   "metadata": {},
   "outputs": [
    {
     "name": "stdout",
     "output_type": "stream",
     "text": [
      "Epoch: [1/5], Step: [101/400], Validation Acc: 70.24\n",
      "Epoch: [1/5], Step: [201/400], Validation Acc: 84.54\n",
      "Epoch: [1/5], Step: [301/400], Validation Acc: 86.72\n",
      "Epoch: [2/5], Step: [101/400], Validation Acc: 79.76\n",
      "Epoch: [2/5], Step: [201/400], Validation Acc: 73.12\n",
      "Epoch: [2/5], Step: [301/400], Validation Acc: 86.66\n",
      "Epoch: [3/5], Step: [101/400], Validation Acc: 85.96\n",
      "Epoch: [3/5], Step: [201/400], Validation Acc: 80.36\n",
      "Epoch: [3/5], Step: [301/400], Validation Acc: 79.72\n",
      "Epoch: [4/5], Step: [101/400], Validation Acc: 83.18\n",
      "Epoch: [4/5], Step: [201/400], Validation Acc: 80.58\n",
      "Epoch: [4/5], Step: [301/400], Validation Acc: 83.42\n",
      "Epoch: [5/5], Step: [101/400], Validation Acc: 87.74\n",
      "Epoch: [5/5], Step: [201/400], Validation Acc: 84.46\n",
      "Epoch: [5/5], Step: [301/400], Validation Acc: 83.72\n"
     ]
    }
   ],
   "source": [
    "learning_rate = 0.01\n",
    "num_epochs = 5 # number epoch to train\n",
    "\n",
    "# Criterion and Optimizer\n",
    "criterion = torch.nn.CrossEntropyLoss()  \n",
    "optimizer = torch.optim.Adam(model.parameters(), lr=learning_rate)\n",
    "\n",
    "# Function for testing the model\n",
    "def test_model(loader, model):\n",
    "    \"\"\"\n",
    "    Help function that tests the model's performance on a dataset\n",
    "    @param: loader - data loader for the dataset to test against\n",
    "    \"\"\"\n",
    "    correct = 0\n",
    "    total = 0\n",
    "    model.eval()\n",
    "    for data, lengths, labels in loader:\n",
    "        data_batch, length_batch, label_batch = data, lengths, labels\n",
    "        outputs = F.softmax(model(data_batch, length_batch), dim=1)\n",
    "        predicted = outputs.max(1, keepdim=True)[1]\n",
    "        \n",
    "        total += labels.size(0)\n",
    "        correct += predicted.eq(labels.view_as(predicted)).sum().item()\n",
    "    return (100 * correct / total)\n",
    "\n",
    "for epoch in range(num_epochs):\n",
    "    for i, (data, lengths, labels) in enumerate(train_loader):\n",
    "        model.train()\n",
    "        data_batch, length_batch, label_batch = data, lengths, labels\n",
    "        optimizer.zero_grad()\n",
    "        outputs = model(data_batch, length_batch)\n",
    "        loss = criterion(outputs, label_batch)\n",
    "        loss.backward()\n",
    "        optimizer.step()\n",
    "        # validate every 100 iterations\n",
    "        if i > 0 and i % 100 == 0:\n",
    "            # validate\n",
    "            val_acc = test_model(val_loader, model)\n",
    "            print('Epoch: [{}/{}], Step: [{}/{}], Validation Acc: {}'.format( \n",
    "                       epoch+1, num_epochs, i+1, len(train_loader), val_acc))\n"
   ]
  },
  {
   "cell_type": "code",
   "execution_count": 42,
   "metadata": {
    "scrolled": true
   },
   "outputs": [
    {
     "name": "stdout",
     "output_type": "stream",
     "text": [
      "After training for 5 epochs\n",
      "Val Acc 83.16\n"
     ]
    }
   ],
   "source": [
    "print (\"After training for {} epochs\".format(num_epochs))\n",
    "print (\"Val Acc {}\".format(test_model(val_loader, model)))"
   ]
  },
  {
   "cell_type": "code",
   "execution_count": null,
   "metadata": {},
   "outputs": [],
   "source": []
  },
  {
   "cell_type": "markdown",
   "metadata": {},
   "source": [
    "## Bag-of-N-Grams\n"
   ]
  },
  {
   "cell_type": "code",
   "execution_count": 41,
   "metadata": {},
   "outputs": [],
   "source": [
    "# tokenization for n-grams\n",
    "def lower_case_remove_punc(parsed):\n",
    "    return [token.text.lower() for token in parsed if (token.text not in punctuations)]\n",
    "\n",
    "def tokenize_dataset(dataset,n):\n",
    "    token_dataset = []\n",
    "    # we are keeping track of all tokens in dataset\n",
    "    # in order to create vocabulary later\n",
    "    all_tokens = []\n",
    "\n",
    "    for sample in tqdm_notebook(tokenizer.pipe(dataset, disable=['parser', 'tagger', 'ner'], \n",
    "                                               batch_size=512, n_threads=1)):\n",
    "        tokens = lower_case_remove_punc(sample)\n",
    "        n_gram_token = list(ngrams(tokens, n))\n",
    "        token_dataset.append(n_gram_token)\n",
    "        all_tokens += n_gram_token\n",
    "        \n",
    "    return token_dataset, all_tokens"
   ]
  },
  {
   "cell_type": "markdown",
   "metadata": {},
   "source": [
    "## 2-grams ( not include 1-gram )"
   ]
  },
  {
   "cell_type": "code",
   "execution_count": 44,
   "metadata": {},
   "outputs": [
    {
     "name": "stdout",
     "output_type": "stream",
     "text": [
      "Tokenizing train data\n"
     ]
    },
    {
     "data": {
      "application/vnd.jupyter.widget-view+json": {
       "model_id": "4691a46c6b254dca801786f053c6aabd",
       "version_major": 2,
       "version_minor": 0
      },
      "text/plain": [
       "HBox(children=(IntProgress(value=1, bar_style='info', max=1), HTML(value='')))"
      ]
     },
     "metadata": {},
     "output_type": "display_data"
    },
    {
     "name": "stdout",
     "output_type": "stream",
     "text": [
      "\n",
      "Tokenizing val data\n"
     ]
    },
    {
     "data": {
      "application/vnd.jupyter.widget-view+json": {
       "model_id": "3c855e6b81af430e96144687017cc4de",
       "version_major": 2,
       "version_minor": 0
      },
      "text/plain": [
       "HBox(children=(IntProgress(value=1, bar_style='info', max=1), HTML(value='')))"
      ]
     },
     "metadata": {},
     "output_type": "display_data"
    },
    {
     "name": "stdout",
     "output_type": "stream",
     "text": [
      "\n",
      "Tokenizing test data\n"
     ]
    },
    {
     "data": {
      "application/vnd.jupyter.widget-view+json": {
       "model_id": "ed7569b6298745e9affb73190d192458",
       "version_major": 2,
       "version_minor": 0
      },
      "text/plain": [
       "HBox(children=(IntProgress(value=1, bar_style='info', max=1), HTML(value='')))"
      ]
     },
     "metadata": {},
     "output_type": "display_data"
    },
    {
     "name": "stdout",
     "output_type": "stream",
     "text": [
      "\n"
     ]
    }
   ],
   "source": [
    "# 2-grams without including 1-gram\n",
    "#train set tokens\n",
    "print (\"Tokenizing train data\")\n",
    "train_data_tokens_2grams_alone, all_train_tokens_2grams_alone = tokenize_dataset(train_data,2)\n",
    "\n",
    "#all_train_tokens_2grams = all_train_tokens_2grams + all_train_tokens\n",
    "\n",
    "pkl.dump(train_data_tokens_2grams_alone, open(\"train_data_tokens_2grams_alone.p\", \"wb\"))\n",
    "pkl.dump(all_train_tokens_2grams_alone, open(\"all_train_tokens_2grams_alone.p\", \"wb\"))\n",
    "\n",
    "\n",
    "#val set tokens\n",
    "print (\"Tokenizing val data\")\n",
    "val_data_tokens_2grams_alone, _ = tokenize_dataset(val_data,2)\n",
    "pkl.dump(val_data_tokens_2grams_alone, open(\"val_data_tokens_2grams_alone.p\", \"wb\"))\n",
    "\n",
    "#test set tokens\n",
    "print (\"Tokenizing test data\")\n",
    "test_data_tokens_2grams_alone, _ = tokenize_dataset(test_data,2)\n",
    "pkl.dump(test_data_tokens_2grams_alone, open(\"test_data_tokens_2grams_alone.p\", \"wb\"))"
   ]
  },
  {
   "cell_type": "code",
   "execution_count": 81,
   "metadata": {},
   "outputs": [
    {
     "name": "stdout",
     "output_type": "stream",
     "text": [
      "Train dataset size is 20000\n",
      "Val dataset size is 5000\n",
      "Test dataset size is 25000\n",
      "Total number of tokens in train dataset is 4765134\n"
     ]
    }
   ],
   "source": [
    "# Then, load preprocessed train, val and test datasets\n",
    "train_data_tokens_2grams_alone = pkl.load(open(\"train_data_tokens_2grams_alone.p\", \"rb\"))\n",
    "all_train_tokens_2grams_alone = pkl.load(open(\"all_train_tokens_2grams_alone.p\", \"rb\"))\n",
    "\n",
    "val_data_tokens_2grams_alone = pkl.load(open(\"val_data_tokens_2grams_alone.p\", \"rb\"))\n",
    "test_data_tokens_2grams_alone = pkl.load(open(\"test_data_tokens_2grams_alone.p\", \"rb\"))\n",
    "\n",
    "# double checking\n",
    "print (\"Train dataset size is {}\".format(len(train_data_tokens_2grams_alone)))\n",
    "print (\"Val dataset size is {}\".format(len(val_data_tokens_2grams_alone)))\n",
    "print (\"Test dataset size is {}\".format(len(test_data_tokens_2grams_alone)))\n",
    "\n",
    "print (\"Total number of tokens in train dataset is {}\".format(len(all_train_tokens_2grams_alone)))"
   ]
  },
  {
   "cell_type": "code",
   "execution_count": 82,
   "metadata": {},
   "outputs": [],
   "source": [
    "from collections import Counter\n",
    "\n",
    "max_vocab_size = 50000\n",
    "# save index 0 for unk and 1 for pad\n",
    "PAD_IDX = 0\n",
    "UNK_IDX = 1\n",
    "\n",
    "def build_vocab(all_tokens):\n",
    "    # Returns:\n",
    "    # id2token: list of tokens, where id2token[i] returns token that corresponds to token i\n",
    "    # token2id: dictionary where keys represent tokens and corresponding values represent indices\n",
    "    token_counter = Counter(all_tokens)\n",
    "    vocab, count = zip(*token_counter.most_common(max_vocab_size))\n",
    "    id2token = list(vocab)\n",
    "    token2id = dict(zip(vocab, range(2,2+len(vocab)))) \n",
    "    id2token = ['<pad>', '<unk>'] + id2token\n",
    "    token2id['<pad>'] = PAD_IDX \n",
    "    token2id['<unk>'] = UNK_IDX\n",
    "    return token2id, id2token\n",
    "\n",
    "token2id, id2token = build_vocab(all_train_tokens_2grams_alone)"
   ]
  },
  {
   "cell_type": "code",
   "execution_count": 83,
   "metadata": {},
   "outputs": [
    {
     "name": "stdout",
     "output_type": "stream",
     "text": [
      "Token id 27578 ; Token ('people', 'so')\n",
      "Token ('people', 'so'); Token id 27578\n"
     ]
    }
   ],
   "source": [
    "# Lets check the dictionary by loading random token from it\n",
    "\n",
    "random_token_id = randint(0, len(id2token)-1)\n",
    "random_token = id2token[random_token_id]\n",
    "\n",
    "print (\"Token id {} ; Token {}\".format(random_token_id, id2token[random_token_id]))\n",
    "print (\"Token {}; Token id {}\".format(random_token, token2id[random_token]))"
   ]
  },
  {
   "cell_type": "code",
   "execution_count": 84,
   "metadata": {},
   "outputs": [
    {
     "name": "stdout",
     "output_type": "stream",
     "text": [
      "Train dataset size is 20000\n",
      "Val dataset size is 5000\n",
      "Test dataset size is 25000\n"
     ]
    }
   ],
   "source": [
    "# convert token to id in the dataset\n",
    "def token2index_dataset(tokens_data):\n",
    "    indices_data = []\n",
    "    for tokens in tokens_data:\n",
    "        index_list = [token2id[token] if token in token2id else UNK_IDX for token in tokens]\n",
    "        indices_data.append(index_list)\n",
    "    return indices_data\n",
    "\n",
    "train_data_indices = token2index_dataset(train_data_tokens_2grams_alone)\n",
    "val_data_indices = token2index_dataset(val_data_tokens_2grams_alone)\n",
    "test_data_indices = token2index_dataset(test_data_tokens_2grams_alone)\n",
    "\n",
    "# double checking\n",
    "print (\"Train dataset size is {}\".format(len(train_data_indices)))\n",
    "print (\"Val dataset size is {}\".format(len(val_data_indices)))\n",
    "print (\"Test dataset size is {}\".format(len(test_data_indices)))"
   ]
  },
  {
   "cell_type": "code",
   "execution_count": 87,
   "metadata": {},
   "outputs": [],
   "source": [
    "MAX_SENTENCE_LENGTH = 500\n",
    "\n",
    "import numpy as np\n",
    "import torch\n",
    "from torch.utils.data import Dataset\n",
    "\n",
    "class IMDBDataset(Dataset):\n",
    "    \"\"\"\n",
    "    Class that represents a train/validation/test dataset that's readable for PyTorch\n",
    "    Note that this class inherits torch.utils.data.Dataset\n",
    "    \"\"\"\n",
    "    \n",
    "    def __init__(self, data_list, target_list):\n",
    "        \"\"\"\n",
    "        @param data_list: list of IMDB tokens \n",
    "        @param target_list: list of IMDB targets \n",
    "\n",
    "        \"\"\"\n",
    "        self.data_list = data_list\n",
    "        self.target_list = target_list\n",
    "        assert (len(self.data_list) == len(self.target_list))\n",
    "\n",
    "    def __len__(self):\n",
    "        return len(self.data_list)\n",
    "        \n",
    "    def __getitem__(self, key):\n",
    "        \"\"\"\n",
    "        Triggered when you call dataset[i]\n",
    "        \"\"\"\n",
    "        \n",
    "        token_idx = self.data_list[key][:MAX_SENTENCE_LENGTH]\n",
    "        label = self.target_list[key]\n",
    "        return [token_idx, len(token_idx), label]\n",
    "\n",
    "def IMDB_collate_func(batch):\n",
    "    \"\"\"\n",
    "    Customized function for DataLoader that dynamically pads the batch so that all \n",
    "    data have the same length\n",
    "    \"\"\"\n",
    "    data_list = []\n",
    "    label_list = []\n",
    "    length_list = []\n",
    "    #print(\"collate batch: \", batch[0][0])\n",
    "    #batch[0][0] = batch[0][0][:MAX_SENTENCE_LENGTH]\n",
    "    for datum in batch:\n",
    "        label_list.append(datum[2])\n",
    "        length_list.append(datum[1])\n",
    "    # padding\n",
    "    for datum in batch:\n",
    "        padded_vec = np.pad(np.array(datum[0]), \n",
    "                                pad_width=((0,MAX_SENTENCE_LENGTH-datum[1])), \n",
    "                                mode=\"constant\", constant_values=0)\n",
    "        data_list.append(padded_vec)\n",
    "    return [torch.from_numpy(np.array(data_list)), torch.LongTensor(length_list), torch.LongTensor(label_list)]\n",
    "\n",
    "# create pytorch dataloader\n",
    "#train_loader = IMDBDataset(train_data_indices, train_targets)\n",
    "#val_loader = IMDBDataset(val_data_indices, val_targets)\n",
    "#test_loader = IMDBDataset(test_data_indices, test_targets)\n",
    "\n",
    "BATCH_SIZE = 50\n",
    "train_dataset = IMDBDataset(train_data_indices, train_targets)\n",
    "train_loader = torch.utils.data.DataLoader(dataset=train_dataset, \n",
    "                                           batch_size=BATCH_SIZE,\n",
    "                                           collate_fn=IMDB_collate_func,\n",
    "                                           shuffle=True)\n",
    "\n",
    "val_dataset = IMDBDataset(val_data_indices, val_targets)\n",
    "val_loader = torch.utils.data.DataLoader(dataset=val_dataset, \n",
    "                                           batch_size=BATCH_SIZE,\n",
    "                                           collate_fn=IMDB_collate_func,\n",
    "                                           shuffle=True)\n",
    "\n",
    "test_dataset = IMDBDataset(test_data_indices, test_targets)\n",
    "test_loader = torch.utils.data.DataLoader(dataset=test_dataset, \n",
    "                                           batch_size=BATCH_SIZE,\n",
    "                                           collate_fn=IMDB_collate_func,\n",
    "                                           shuffle=False)\n",
    "\n",
    "# for i, (data, lengths, labels) in enumerate(train_loader):\n",
    "#    print (data)\n",
    "#    print (labels)\n",
    "#    break"
   ]
  },
  {
   "cell_type": "code",
   "execution_count": 88,
   "metadata": {},
   "outputs": [],
   "source": [
    "class BagOfWords(nn.Module):\n",
    "    \"\"\"\n",
    "    BagOfWords classification model\n",
    "    \"\"\"\n",
    "    def __init__(self, vocab_size, emb_dim):\n",
    "        \"\"\"\n",
    "        @param vocab_size: size of the vocabulary. \n",
    "        @param emb_dim: size of the word embedding\n",
    "        \"\"\"\n",
    "        super(BagOfWords, self).__init__()\n",
    "        # pay attention to padding_idx \n",
    "        self.embed = nn.Embedding(vocab_size, emb_dim, padding_idx=0)\n",
    "        self.linear = nn.Linear(emb_dim,20)\n",
    "    \n",
    "    def forward(self, data, length):\n",
    "        \"\"\"\n",
    "        \n",
    "        @param data: matrix of size (batch_size, max_sentence_length). Each row in data represents a \n",
    "            review that is represented using n-gram index. Note that they are padded to have same length.\n",
    "        @param length: an int tensor of size (batch_size), which represents the non-trivial (excludes padding)\n",
    "            length of each sentences in the data.\n",
    "        \"\"\"\n",
    "        out = self.embed(data)\n",
    "        out = torch.sum(out, dim=1)\n",
    "        out /= length.view(length.size()[0],1).expand_as(out).float()\n",
    "     \n",
    "        # return logits\n",
    "        out = self.linear(out.float())\n",
    "        return out\n"
   ]
  },
  {
   "cell_type": "code",
   "execution_count": 89,
   "metadata": {},
   "outputs": [],
   "source": [
    "emb_dim = 100\n",
    "model = BagOfWords(len(id2token), emb_dim)"
   ]
  },
  {
   "cell_type": "code",
   "execution_count": 90,
   "metadata": {},
   "outputs": [
    {
     "name": "stdout",
     "output_type": "stream",
     "text": [
      "Epoch: [1/5], Step: [101/400], Validation Acc: 29.04\n",
      "Epoch: [1/5], Step: [201/400], Validation Acc: 73.6\n",
      "Epoch: [1/5], Step: [301/400], Validation Acc: 79.32\n",
      "Epoch: [2/5], Step: [101/400], Validation Acc: 79.42\n",
      "Epoch: [2/5], Step: [201/400], Validation Acc: 76.42\n",
      "Epoch: [2/5], Step: [301/400], Validation Acc: 83.34\n",
      "Epoch: [3/5], Step: [101/400], Validation Acc: 82.64\n",
      "Epoch: [3/5], Step: [201/400], Validation Acc: 79.82\n",
      "Epoch: [3/5], Step: [301/400], Validation Acc: 79.26\n",
      "Epoch: [4/5], Step: [101/400], Validation Acc: 82.7\n",
      "Epoch: [4/5], Step: [201/400], Validation Acc: 82.78\n",
      "Epoch: [4/5], Step: [301/400], Validation Acc: 82.66\n",
      "Epoch: [5/5], Step: [101/400], Validation Acc: 81.86\n",
      "Epoch: [5/5], Step: [201/400], Validation Acc: 82.48\n",
      "Epoch: [5/5], Step: [301/400], Validation Acc: 83.28\n"
     ]
    }
   ],
   "source": [
    "learning_rate = 0.01\n",
    "num_epochs = 5 # number epoch to train\n",
    "\n",
    "# Criterion and Optimizer\n",
    "criterion = torch.nn.CrossEntropyLoss()  \n",
    "optimizer = torch.optim.Adam(model.parameters(), lr=learning_rate)\n",
    "\n",
    "# Function for testing the model\n",
    "def test_model(loader, model):\n",
    "    \"\"\"\n",
    "    Help function that tests the model's performance on a dataset\n",
    "    @param: loader - data loader for the dataset to test against\n",
    "    \"\"\"\n",
    "    correct = 0\n",
    "    total = 0\n",
    "    model.eval()\n",
    "    for data, lengths, labels in loader:\n",
    "        data_batch, length_batch, label_batch = data, lengths, labels\n",
    "        outputs = F.softmax(model(data_batch, length_batch), dim=1)\n",
    "        predicted = outputs.max(1, keepdim=True)[1]\n",
    "        \n",
    "        total += labels.size(0)\n",
    "        correct += predicted.eq(labels.view_as(predicted)).sum().item()\n",
    "    return (100 * correct / total)\n",
    "\n",
    "for epoch in range(num_epochs):\n",
    "    for i, (data, lengths, labels) in enumerate(train_loader):\n",
    "        model.train()\n",
    "        data_batch, length_batch, label_batch = data, lengths, labels\n",
    "        optimizer.zero_grad()\n",
    "        outputs = model(data_batch, length_batch)\n",
    "        loss = criterion(outputs, label_batch)\n",
    "        loss.backward()\n",
    "        optimizer.step()\n",
    "        # validate every 100 iterations\n",
    "        if i > 0 and i % 100 == 0:\n",
    "            # validate\n",
    "            val_acc = test_model(val_loader, model)\n",
    "            print('Epoch: [{}/{}], Step: [{}/{}], Validation Acc: {}'.format( \n",
    "                       epoch+1, num_epochs, i+1, len(train_loader), val_acc))\n"
   ]
  },
  {
   "cell_type": "code",
   "execution_count": 91,
   "metadata": {},
   "outputs": [
    {
     "name": "stdout",
     "output_type": "stream",
     "text": [
      "After training for 5 epochs\n",
      "Val Acc 81.78\n"
     ]
    }
   ],
   "source": [
    "print (\"After training for {} epochs\".format(num_epochs))\n",
    "print (\"Val Acc {}\".format(test_model(val_loader, model)))"
   ]
  },
  {
   "cell_type": "markdown",
   "metadata": {},
   "source": [
    "## 2-grams ( include 1-gram )"
   ]
  },
  {
   "cell_type": "code",
   "execution_count": 64,
   "metadata": {},
   "outputs": [
    {
     "name": "stdout",
     "output_type": "stream",
     "text": [
      "Tokenizing train data\n"
     ]
    },
    {
     "data": {
      "application/vnd.jupyter.widget-view+json": {
       "model_id": "ce469c609023404f8b95b174c151aa0d",
       "version_major": 2,
       "version_minor": 0
      },
      "text/plain": [
       "HBox(children=(IntProgress(value=1, bar_style='info', max=1), HTML(value='')))"
      ]
     },
     "metadata": {},
     "output_type": "display_data"
    },
    {
     "name": "stdout",
     "output_type": "stream",
     "text": [
      "\n",
      "Tokenizing val data\n"
     ]
    },
    {
     "data": {
      "application/vnd.jupyter.widget-view+json": {
       "model_id": "96fc1e2281d0491aba626baa96f26b81",
       "version_major": 2,
       "version_minor": 0
      },
      "text/plain": [
       "HBox(children=(IntProgress(value=1, bar_style='info', max=1), HTML(value='')))"
      ]
     },
     "metadata": {},
     "output_type": "display_data"
    },
    {
     "name": "stdout",
     "output_type": "stream",
     "text": [
      "\n",
      "Tokenizing test data\n"
     ]
    },
    {
     "data": {
      "application/vnd.jupyter.widget-view+json": {
       "model_id": "e9e0d1c072054634a9e516d850139bd5",
       "version_major": 2,
       "version_minor": 0
      },
      "text/plain": [
       "HBox(children=(IntProgress(value=1, bar_style='info', max=1), HTML(value='')))"
      ]
     },
     "metadata": {},
     "output_type": "display_data"
    },
    {
     "name": "stdout",
     "output_type": "stream",
     "text": [
      "\n"
     ]
    }
   ],
   "source": [
    "# 2-grams\n",
    "#train set tokens\n",
    "print (\"Tokenizing train data\")\n",
    "train_data_tokens_2grams, all_train_tokens_2grams = tokenize_dataset(train_data,2)\n",
    "\n",
    "all_train_tokens_2grams = all_train_tokens_2grams + all_train_tokens\n",
    "\n",
    "pkl.dump(train_data_tokens_2grams, open(\"train_data_tokens_2grams.p\", \"wb\"))\n",
    "pkl.dump(all_train_tokens_2grams, open(\"all_train_tokens_2grams.p\", \"wb\"))\n",
    "\n",
    "\n",
    "#val set tokens\n",
    "print (\"Tokenizing val data\")\n",
    "val_data_tokens_2grams, _ = tokenize_dataset(val_data,2)\n",
    "pkl.dump(val_data_tokens_2grams, open(\"val_data_tokens_2grams.p\", \"wb\"))\n",
    "\n",
    "#test set tokens\n",
    "print (\"Tokenizing test data\")\n",
    "test_data_tokens_2grams, _ = tokenize_dataset(test_data,2)\n",
    "pkl.dump(test_data_tokens_2grams, open(\"test_data_tokens_2grams.p\", \"wb\"))"
   ]
  },
  {
   "cell_type": "code",
   "execution_count": 65,
   "metadata": {},
   "outputs": [
    {
     "name": "stdout",
     "output_type": "stream",
     "text": [
      "Train dataset size is 20000\n",
      "Val dataset size is 5000\n",
      "Test dataset size is 25000\n",
      "Total number of tokens in train dataset is 9545617\n"
     ]
    }
   ],
   "source": [
    "# Then, load preprocessed train, val and test datasets\n",
    "train_data_tokens_2grams = pkl.load(open(\"train_data_tokens_2grams.p\", \"rb\"))\n",
    "all_train_tokens_2grams = pkl.load(open(\"all_train_tokens_2grams.p\", \"rb\"))\n",
    "\n",
    "val_data_tokens_2grams = pkl.load(open(\"val_data_tokens_2grams.p\", \"rb\"))\n",
    "test_data_tokens_2grams = pkl.load(open(\"test_data_tokens_2grams.p\", \"rb\"))\n",
    "\n",
    "# double checking\n",
    "print (\"Train dataset size is {}\".format(len(train_data_tokens_2grams)))\n",
    "print (\"Val dataset size is {}\".format(len(val_data_tokens_2grams)))\n",
    "print (\"Test dataset size is {}\".format(len(test_data_tokens_2grams)))\n",
    "\n",
    "print (\"Total number of tokens in train dataset is {}\".format(len(all_train_tokens_2grams)))"
   ]
  },
  {
   "cell_type": "code",
   "execution_count": 66,
   "metadata": {},
   "outputs": [],
   "source": [
    "token2id_2grams, id2token_2grams = build_vocab(all_train_tokens_2grams)"
   ]
  },
  {
   "cell_type": "code",
   "execution_count": 67,
   "metadata": {},
   "outputs": [
    {
     "name": "stdout",
     "output_type": "stream",
     "text": [
      "Token id 11346 ; Token ('save', 'this')\n",
      "Token ('save', 'this'); Token id 11346\n"
     ]
    }
   ],
   "source": [
    "random_token_id = randint(0, len(id2token_2grams)-1)\n",
    "random_token = id2token_2grams[random_token_id]\n",
    "\n",
    "print (\"Token id {} ; Token {}\".format(random_token_id, id2token_2grams[random_token_id]))\n",
    "print (\"Token {}; Token id {}\".format(random_token, token2id_2grams[random_token]))"
   ]
  },
  {
   "cell_type": "code",
   "execution_count": 68,
   "metadata": {},
   "outputs": [
    {
     "name": "stdout",
     "output_type": "stream",
     "text": [
      "Train dataset size is 20000\n",
      "Val dataset size is 5000\n",
      "Test dataset size is 25000\n"
     ]
    }
   ],
   "source": [
    "# convert token to id in the dataset\n",
    "def token2index_dataset(tokens_data):\n",
    "    indices_data = []\n",
    "    for tokens in tokens_data:\n",
    "        index_list = [token2id_2grams[token] if token in token2id_2grams else UNK_IDX for token in tokens]\n",
    "        indices_data.append(index_list)\n",
    "    return indices_data\n",
    "\n",
    "train_data_indices_2grams = token2index_dataset(train_data_tokens_2grams)\n",
    "val_data_indices_2grams = token2index_dataset(val_data_tokens_2grams)\n",
    "test_data_indices_2grams = token2index_dataset(test_data_tokens_2grams)\n",
    "\n",
    "# double checking\n",
    "print (\"Train dataset size is {}\".format(len(train_data_indices_2grams)))\n",
    "print (\"Val dataset size is {}\".format(len(val_data_indices_2grams)))\n",
    "print (\"Test dataset size is {}\".format(len(test_data_indices_2grams)))"
   ]
  },
  {
   "cell_type": "code",
   "execution_count": 75,
   "metadata": {},
   "outputs": [],
   "source": [
    "MAX_SENTENCE_LENGTH = 500\n",
    "\n",
    "import numpy as np\n",
    "import torch\n",
    "from torch.utils.data import Dataset\n",
    "\n",
    "class IMDBDataset(Dataset):\n",
    "    \"\"\"\n",
    "    Class that represents a train/validation/test dataset that's readable for PyTorch\n",
    "    Note that this class inherits torch.utils.data.Dataset\n",
    "    \"\"\"\n",
    "    \n",
    "    def __init__(self, data_list, target_list):\n",
    "        \"\"\"\n",
    "        @param data_list: list of IMDB tokens \n",
    "        @param target_list: list of IMDB targets \n",
    "\n",
    "        \"\"\"\n",
    "        self.data_list = data_list\n",
    "        self.target_list = target_list\n",
    "        assert (len(self.data_list) == len(self.target_list))\n",
    "\n",
    "    def __len__(self):\n",
    "        return len(self.data_list)\n",
    "        \n",
    "    def __getitem__(self, key):\n",
    "        \"\"\"\n",
    "        Triggered when you call dataset[i]\n",
    "        \"\"\"\n",
    "        \n",
    "        token_idx = self.data_list[key][:MAX_SENTENCE_LENGTH]\n",
    "        label = self.target_list[key]\n",
    "        return [token_idx, len(token_idx), label]\n",
    "\n",
    "def IMDB_collate_func(batch):\n",
    "    \"\"\"\n",
    "    Customized function for DataLoader that dynamically pads the batch so that all \n",
    "    data have the same length\n",
    "    \"\"\"\n",
    "    data_list = []\n",
    "    label_list = []\n",
    "    length_list = []\n",
    "    #print(\"collate batch: \", batch[0][0])\n",
    "    #batch[0][0] = batch[0][0][:MAX_SENTENCE_LENGTH]\n",
    "    for datum in batch:\n",
    "        label_list.append(datum[2])\n",
    "        length_list.append(datum[1])\n",
    "    # padding\n",
    "    for datum in batch:\n",
    "        padded_vec = np.pad(np.array(datum[0]), \n",
    "                                pad_width=((0,MAX_SENTENCE_LENGTH-datum[1])), \n",
    "                                mode=\"constant\", constant_values=0)\n",
    "        data_list.append(padded_vec)\n",
    "    return [torch.from_numpy(np.array(data_list)), torch.LongTensor(length_list), torch.LongTensor(label_list)]\n",
    "\n",
    "# create pytorch dataloader\n",
    "#train_loader = IMDBDataset(train_data_indices, train_targets)\n",
    "#val_loader = IMDBDataset(val_data_indices, val_targets)\n",
    "#test_loader = IMDBDataset(test_data_indices, test_targets)\n",
    "\n",
    "BATCH_SIZE = 50\n",
    "train_dataset = IMDBDataset(train_data_indices_2grams, train_targets)\n",
    "train_loader = torch.utils.data.DataLoader(dataset=train_dataset, \n",
    "                                           batch_size=BATCH_SIZE,\n",
    "                                           collate_fn=IMDB_collate_func,\n",
    "                                           shuffle=True)\n",
    "\n",
    "val_dataset = IMDBDataset(val_data_indices_2grams, val_targets)\n",
    "val_loader = torch.utils.data.DataLoader(dataset=val_dataset, \n",
    "                                           batch_size=BATCH_SIZE,\n",
    "                                           collate_fn=IMDB_collate_func,\n",
    "                                           shuffle=True)\n",
    "\n",
    "test_dataset = IMDBDataset(test_data_indices_2grams, test_targets)\n",
    "test_loader = torch.utils.data.DataLoader(dataset=test_dataset, \n",
    "                                           batch_size=BATCH_SIZE,\n",
    "                                           collate_fn=IMDB_collate_func,\n",
    "                                           shuffle=False)\n",
    "\n",
    "# for i, (data, lengths, labels) in enumerate(train_loader):\n",
    "#    print (data)\n",
    "#    print (labels)\n",
    "#    break"
   ]
  },
  {
   "cell_type": "code",
   "execution_count": 76,
   "metadata": {},
   "outputs": [],
   "source": [
    "class BagOfWords(nn.Module):\n",
    "    \"\"\"\n",
    "    BagOfWords classification model\n",
    "    \"\"\"\n",
    "    def __init__(self, vocab_size, emb_dim):\n",
    "        \"\"\"\n",
    "        @param vocab_size: size of the vocabulary. \n",
    "        @param emb_dim: size of the word embedding\n",
    "        \"\"\"\n",
    "        super(BagOfWords, self).__init__()\n",
    "        # pay attention to padding_idx \n",
    "        self.embed = nn.Embedding(vocab_size, emb_dim, padding_idx=0)\n",
    "        self.linear = nn.Linear(emb_dim,20)\n",
    "    \n",
    "    def forward(self, data, length):\n",
    "        \"\"\"\n",
    "        \n",
    "        @param data: matrix of size (batch_size, max_sentence_length). Each row in data represents a \n",
    "            review that is represented using n-gram index. Note that they are padded to have same length.\n",
    "        @param length: an int tensor of size (batch_size), which represents the non-trivial (excludes padding)\n",
    "            length of each sentences in the data.\n",
    "        \"\"\"\n",
    "        out = self.embed(data)\n",
    "        out = torch.sum(out, dim=1)\n",
    "        out /= length.view(length.size()[0],1).expand_as(out).float()\n",
    "     \n",
    "        # return logits\n",
    "        out = self.linear(out.float())\n",
    "        return out\n"
   ]
  },
  {
   "cell_type": "code",
   "execution_count": 77,
   "metadata": {},
   "outputs": [],
   "source": [
    "emb_dim = 100\n",
    "model = BagOfWords(len(id2token_2grams), emb_dim)"
   ]
  },
  {
   "cell_type": "code",
   "execution_count": 78,
   "metadata": {},
   "outputs": [
    {
     "name": "stdout",
     "output_type": "stream",
     "text": [
      "Epoch: [1/5], Step: [101/400], Validation Acc: 26.74\n",
      "Epoch: [1/5], Step: [201/400], Validation Acc: 77.38\n",
      "Epoch: [1/5], Step: [301/400], Validation Acc: 65.54\n",
      "Epoch: [2/5], Step: [101/400], Validation Acc: 78.22\n",
      "Epoch: [2/5], Step: [201/400], Validation Acc: 75.5\n",
      "Epoch: [2/5], Step: [301/400], Validation Acc: 82.0\n",
      "Epoch: [3/5], Step: [101/400], Validation Acc: 77.54\n",
      "Epoch: [3/5], Step: [201/400], Validation Acc: 79.52\n",
      "Epoch: [3/5], Step: [301/400], Validation Acc: 78.96\n",
      "Epoch: [4/5], Step: [101/400], Validation Acc: 84.98\n",
      "Epoch: [4/5], Step: [201/400], Validation Acc: 83.24\n",
      "Epoch: [4/5], Step: [301/400], Validation Acc: 84.08\n",
      "Epoch: [5/5], Step: [101/400], Validation Acc: 81.88\n",
      "Epoch: [5/5], Step: [201/400], Validation Acc: 81.12\n",
      "Epoch: [5/5], Step: [301/400], Validation Acc: 81.8\n"
     ]
    }
   ],
   "source": [
    "learning_rate = 0.01\n",
    "num_epochs = 5 # number epoch to train\n",
    "\n",
    "# Criterion and Optimizer\n",
    "criterion = torch.nn.CrossEntropyLoss()  \n",
    "optimizer = torch.optim.Adam(model.parameters(), lr=learning_rate)\n",
    "\n",
    "# Function for testing the model\n",
    "def test_model(loader, model):\n",
    "    \"\"\"\n",
    "    Help function that tests the model's performance on a dataset\n",
    "    @param: loader - data loader for the dataset to test against\n",
    "    \"\"\"\n",
    "    correct = 0\n",
    "    total = 0\n",
    "    model.eval()\n",
    "    for data, lengths, labels in loader:\n",
    "        data_batch, length_batch, label_batch = data, lengths, labels\n",
    "        outputs = F.softmax(model(data_batch, length_batch), dim=1)\n",
    "        predicted = outputs.max(1, keepdim=True)[1]\n",
    "        \n",
    "        total += labels.size(0)\n",
    "        correct += predicted.eq(labels.view_as(predicted)).sum().item()\n",
    "    return (100 * correct / total)\n",
    "\n",
    "for epoch in range(num_epochs):\n",
    "    for i, (data, lengths, labels) in enumerate(train_loader):\n",
    "        model.train()\n",
    "        data_batch, length_batch, label_batch = data, lengths, labels\n",
    "        optimizer.zero_grad()\n",
    "        outputs = model(data_batch, length_batch)\n",
    "        loss = criterion(outputs, label_batch)\n",
    "        loss.backward()\n",
    "        optimizer.step()\n",
    "        # validate every 100 iterations\n",
    "        if i > 0 and i % 100 == 0:\n",
    "            # validate\n",
    "            val_acc = test_model(val_loader, model)\n",
    "            print('Epoch: [{}/{}], Step: [{}/{}], Validation Acc: {}'.format( \n",
    "                       epoch+1, num_epochs, i+1, len(train_loader), val_acc))\n"
   ]
  },
  {
   "cell_type": "code",
   "execution_count": 80,
   "metadata": {},
   "outputs": [
    {
     "name": "stdout",
     "output_type": "stream",
     "text": [
      "After training for 5 epochs\n",
      "Val Acc 82.7\n"
     ]
    }
   ],
   "source": [
    "print (\"After training for {} epochs\".format(num_epochs))\n",
    "print (\"Val Acc {}\".format(test_model(val_loader, model)))"
   ]
  },
  {
   "cell_type": "markdown",
   "metadata": {},
   "source": [
    "## Vary N to generate Bag-of-N-Grams"
   ]
  },
  {
   "cell_type": "markdown",
   "metadata": {},
   "source": [
    "### N = 2"
   ]
  },
  {
   "cell_type": "code",
   "execution_count": null,
   "metadata": {},
   "outputs": [],
   "source": [
    "# 2-grams\n",
    "#train set tokens\n",
    "print (\"Tokenizing train data\")\n",
    "train_data_tokens_2grams, all_train_tokens_2grams = tokenize_dataset(train_data,2)\n",
    "\n",
    "all_train_tokens_2grams = all_train_tokens_2grams + all_train_tokens\n",
    "\n",
    "pkl.dump(train_data_tokens_2grams, open(\"train_data_tokens_2grams.p\", \"wb\"))\n",
    "pkl.dump(all_train_tokens_2grams, open(\"all_train_tokens_2grams.p\", \"wb\"))\n",
    "\n",
    "\n",
    "#val set tokens\n",
    "print (\"Tokenizing val data\")\n",
    "val_data_tokens_2grams, _ = tokenize_dataset(val_data,2)\n",
    "pkl.dump(val_data_tokens_2grams, open(\"val_data_tokens_2grams.p\", \"wb\"))\n",
    "\n",
    "#test set tokens\n",
    "print (\"Tokenizing test data\")\n",
    "test_data_tokens_2grams, _ = tokenize_dataset(test_data,2)\n",
    "pkl.dump(test_data_tokens_2grams, open(\"test_data_tokens_2grams.p\", \"wb\"))\n",
    "\n",
    "\n"
   ]
  },
  {
   "cell_type": "code",
   "execution_count": 102,
   "metadata": {},
   "outputs": [
    {
     "name": "stdout",
     "output_type": "stream",
     "text": [
      "Train dataset size is 20000\n",
      "Val dataset size is 5000\n",
      "Test dataset size is 25000\n",
      "Total number of tokens in train dataset is 9545617\n",
      "Token id 29720 ; Token ('of', 'originality')\n",
      "Token ('of', 'originality'); Token id 29720\n",
      "Train dataset size is 20000\n",
      "Val dataset size is 5000\n",
      "Test dataset size is 25000\n"
     ]
    }
   ],
   "source": [
    "# Then, load preprocessed train, val and test datasets\n",
    "train_data_tokens_2grams = pkl.load(open(\"train_data_tokens_2grams.p\", \"rb\"))\n",
    "all_train_tokens_2grams = pkl.load(open(\"all_train_tokens_2grams.p\", \"rb\"))\n",
    "\n",
    "val_data_tokens_2grams = pkl.load(open(\"val_data_tokens_2grams.p\", \"rb\"))\n",
    "test_data_tokens_2grams = pkl.load(open(\"test_data_tokens_2grams.p\", \"rb\"))\n",
    "\n",
    "# double checking\n",
    "print (\"Train dataset size is {}\".format(len(train_data_tokens_2grams)))\n",
    "print (\"Val dataset size is {}\".format(len(val_data_tokens_2grams)))\n",
    "print (\"Test dataset size is {}\".format(len(test_data_tokens_2grams)))\n",
    "\n",
    "print (\"Total number of tokens in train dataset is {}\".format(len(all_train_tokens_2grams)))\n",
    "\n",
    "token2id, id2token = build_vocab(all_train_tokens_2grams)\n",
    "\n",
    "# Lets check the dictionary by loading random token from it\n",
    "\n",
    "random_token_id = randint(0, len(id2token)-1)\n",
    "random_token = id2token[random_token_id]\n",
    "\n",
    "print (\"Token id {} ; Token {}\".format(random_token_id, id2token[random_token_id]))\n",
    "print (\"Token {}; Token id {}\".format(random_token, token2id[random_token]))\n",
    "\n",
    "# convert token to id in the dataset\n",
    "def token2index_dataset(tokens_data):\n",
    "    indices_data = []\n",
    "    for tokens in tokens_data:\n",
    "        index_list = [token2id[token] if token in token2id else UNK_IDX for token in tokens]\n",
    "        indices_data.append(index_list)\n",
    "    return indices_data\n",
    "\n",
    "train_data_indices = token2index_dataset(train_data_tokens_2grams)\n",
    "val_data_indices = token2index_dataset(val_data_tokens_2grams)\n",
    "test_data_indices = token2index_dataset(test_data_tokens_2grams)\n",
    "\n",
    "# double checking\n",
    "print (\"Train dataset size is {}\".format(len(train_data_indices)))\n",
    "print (\"Val dataset size is {}\".format(len(val_data_indices)))\n",
    "print (\"Test dataset size is {}\".format(len(test_data_indices)))"
   ]
  },
  {
   "cell_type": "code",
   "execution_count": 103,
   "metadata": {},
   "outputs": [],
   "source": [
    "MAX_SENTENCE_LENGTH = 500\n",
    "\n",
    "import numpy as np\n",
    "import torch\n",
    "from torch.utils.data import Dataset\n",
    "\n",
    "class IMDBDataset(Dataset):\n",
    "    \"\"\"\n",
    "    Class that represents a train/validation/test dataset that's readable for PyTorch\n",
    "    Note that this class inherits torch.utils.data.Dataset\n",
    "    \"\"\"\n",
    "    \n",
    "    def __init__(self, data_list, target_list):\n",
    "        \"\"\"\n",
    "        @param data_list: list of IMDB tokens \n",
    "        @param target_list: list of IMDB targets \n",
    "\n",
    "        \"\"\"\n",
    "        self.data_list = data_list\n",
    "        self.target_list = target_list\n",
    "        assert (len(self.data_list) == len(self.target_list))\n",
    "\n",
    "    def __len__(self):\n",
    "        return len(self.data_list)\n",
    "        \n",
    "    def __getitem__(self, key):\n",
    "        \"\"\"\n",
    "        Triggered when you call dataset[i]\n",
    "        \"\"\"\n",
    "        \n",
    "        token_idx = self.data_list[key][:MAX_SENTENCE_LENGTH]\n",
    "        label = self.target_list[key]\n",
    "        return [token_idx, len(token_idx), label]\n",
    "\n",
    "def IMDB_collate_func(batch):\n",
    "    \"\"\"\n",
    "    Customized function for DataLoader that dynamically pads the batch so that all \n",
    "    data have the same length\n",
    "    \"\"\"\n",
    "    data_list = []\n",
    "    label_list = []\n",
    "    length_list = []\n",
    "    #print(\"collate batch: \", batch[0][0])\n",
    "    #batch[0][0] = batch[0][0][:MAX_SENTENCE_LENGTH]\n",
    "    for datum in batch:\n",
    "        label_list.append(datum[2])\n",
    "        length_list.append(datum[1])\n",
    "    # padding\n",
    "    for datum in batch:\n",
    "        padded_vec = np.pad(np.array(datum[0]), \n",
    "                                pad_width=((0,MAX_SENTENCE_LENGTH-datum[1])), \n",
    "                                mode=\"constant\", constant_values=0)\n",
    "        data_list.append(padded_vec)\n",
    "    return [torch.from_numpy(np.array(data_list)), torch.LongTensor(length_list), torch.LongTensor(label_list)]\n",
    "\n",
    "# create pytorch dataloader\n",
    "#train_loader = IMDBDataset(train_data_indices, train_targets)\n",
    "#val_loader = IMDBDataset(val_data_indices, val_targets)\n",
    "#test_loader = IMDBDataset(test_data_indices, test_targets)\n",
    "\n",
    "BATCH_SIZE = 50\n",
    "train_dataset = IMDBDataset(train_data_indices, train_targets)\n",
    "train_loader = torch.utils.data.DataLoader(dataset=train_dataset, \n",
    "                                           batch_size=BATCH_SIZE,\n",
    "                                           collate_fn=IMDB_collate_func,\n",
    "                                           shuffle=True)\n",
    "\n",
    "val_dataset = IMDBDataset(val_data_indices, val_targets)\n",
    "val_loader = torch.utils.data.DataLoader(dataset=val_dataset, \n",
    "                                           batch_size=BATCH_SIZE,\n",
    "                                           collate_fn=IMDB_collate_func,\n",
    "                                           shuffle=True)\n",
    "\n",
    "test_dataset = IMDBDataset(test_data_indices, test_targets)\n",
    "test_loader = torch.utils.data.DataLoader(dataset=test_dataset, \n",
    "                                           batch_size=BATCH_SIZE,\n",
    "                                           collate_fn=IMDB_collate_func,\n",
    "                                           shuffle=False)\n",
    "\n",
    "# for i, (data, lengths, labels) in enumerate(train_loader):\n",
    "#    print (data)\n",
    "#    print (labels)\n",
    "#    break"
   ]
  },
  {
   "cell_type": "code",
   "execution_count": 104,
   "metadata": {},
   "outputs": [],
   "source": [
    "emb_dim = 100\n",
    "model = BagOfWords(len(id2token), emb_dim)"
   ]
  },
  {
   "cell_type": "code",
   "execution_count": 105,
   "metadata": {},
   "outputs": [
    {
     "name": "stdout",
     "output_type": "stream",
     "text": [
      "Epoch: [1/5], Step: [101/400], Validation Acc: 54.3\n",
      "Epoch: [1/5], Step: [201/400], Validation Acc: 75.06\n",
      "Epoch: [1/5], Step: [301/400], Validation Acc: 69.42\n",
      "Epoch: [2/5], Step: [101/400], Validation Acc: 83.52\n",
      "Epoch: [2/5], Step: [201/400], Validation Acc: 76.72\n",
      "Epoch: [2/5], Step: [301/400], Validation Acc: 87.6\n",
      "Epoch: [3/5], Step: [101/400], Validation Acc: 81.12\n",
      "Epoch: [3/5], Step: [201/400], Validation Acc: 82.68\n",
      "Epoch: [3/5], Step: [301/400], Validation Acc: 88.56\n",
      "Epoch: [4/5], Step: [101/400], Validation Acc: 82.42\n",
      "Epoch: [4/5], Step: [201/400], Validation Acc: 81.28\n",
      "Epoch: [4/5], Step: [301/400], Validation Acc: 80.0\n",
      "Epoch: [5/5], Step: [101/400], Validation Acc: 82.32\n",
      "Epoch: [5/5], Step: [201/400], Validation Acc: 82.16\n",
      "Epoch: [5/5], Step: [301/400], Validation Acc: 80.62\n"
     ]
    }
   ],
   "source": [
    "learning_rate = 0.01\n",
    "num_epochs = 5 # number epoch to train\n",
    "\n",
    "# Criterion and Optimizer\n",
    "criterion = torch.nn.CrossEntropyLoss()  \n",
    "optimizer = torch.optim.Adam(model.parameters(), lr=learning_rate)\n",
    "\n",
    "# Function for testing the model\n",
    "def test_model(loader, model):\n",
    "    \"\"\"\n",
    "    Help function that tests the model's performance on a dataset\n",
    "    @param: loader - data loader for the dataset to test against\n",
    "    \"\"\"\n",
    "    correct = 0\n",
    "    total = 0\n",
    "    model.eval()\n",
    "    for data, lengths, labels in loader:\n",
    "        data_batch, length_batch, label_batch = data, lengths, labels\n",
    "        outputs = F.softmax(model(data_batch, length_batch), dim=1)\n",
    "        predicted = outputs.max(1, keepdim=True)[1]\n",
    "        \n",
    "        total += labels.size(0)\n",
    "        correct += predicted.eq(labels.view_as(predicted)).sum().item()\n",
    "    return (100 * correct / total)\n",
    "\n",
    "for epoch in range(num_epochs):\n",
    "    for i, (data, lengths, labels) in enumerate(train_loader):\n",
    "        model.train()\n",
    "        data_batch, length_batch, label_batch = data, lengths, labels\n",
    "        optimizer.zero_grad()\n",
    "        outputs = model(data_batch, length_batch)\n",
    "        loss = criterion(outputs, label_batch)\n",
    "        loss.backward()\n",
    "        optimizer.step()\n",
    "        # validate every 100 iterations\n",
    "        if i > 0 and i % 100 == 0:\n",
    "            # validate\n",
    "            val_acc = test_model(val_loader, model)\n",
    "            print('Epoch: [{}/{}], Step: [{}/{}], Validation Acc: {}'.format( \n",
    "                       epoch+1, num_epochs, i+1, len(train_loader), val_acc))\n"
   ]
  },
  {
   "cell_type": "code",
   "execution_count": 106,
   "metadata": {},
   "outputs": [
    {
     "name": "stdout",
     "output_type": "stream",
     "text": [
      "After training for 5 epochs\n",
      "Val Acc 81.36\n"
     ]
    }
   ],
   "source": [
    "print (\"After training for {} epochs\".format(num_epochs))\n",
    "print (\"Val Acc {}\".format(test_model(val_loader, model)))"
   ]
  },
  {
   "cell_type": "markdown",
   "metadata": {},
   "source": [
    "## N = 3"
   ]
  },
  {
   "cell_type": "code",
   "execution_count": null,
   "metadata": {},
   "outputs": [],
   "source": [
    "# 3-grams\n",
    "#train set tokens\n",
    "print (\"Tokenizing train data\")\n",
    "train_data_tokens_3grams, all_train_tokens_3grams = tokenize_dataset(train_data,3)\n",
    "\n",
    "all_train_tokens_3grams = all_train_tokens_3grams + all_train_tokens_2grams\n",
    "\n",
    "pkl.dump(train_data_tokens_3grams, open(\"train_data_tokens_3grams.p\", \"wb\"))\n",
    "pkl.dump(all_train_tokens_3grams, open(\"all_train_tokens_3grams.p\", \"wb\"))\n",
    "\n",
    "\n",
    "#val set tokens\n",
    "print (\"Tokenizing val data\")\n",
    "val_data_tokens_3grams, _ = tokenize_dataset(val_data,3)\n",
    "\n",
    "pkl.dump(val_data_tokens_3grams, open(\"val_data_tokens_3grams.p\", \"wb\"))\n",
    "\n",
    "#test set tokens\n",
    "print (\"Tokenizing test data\")\n",
    "test_data_tokens_3grams, _ = tokenize_dataset(test_data,3)\n",
    "\n",
    "pkl.dump(test_data_tokens_3grams, open(\"test_data_tokens_3grams.p\", \"wb\"))"
   ]
  },
  {
   "cell_type": "code",
   "execution_count": 107,
   "metadata": {},
   "outputs": [
    {
     "name": "stdout",
     "output_type": "stream",
     "text": [
      "Train dataset size is 20000\n",
      "Val dataset size is 5000\n",
      "Test dataset size is 25000\n",
      "Total number of tokens in train dataset is 14422680\n"
     ]
    }
   ],
   "source": [
    "# Then, load preprocessed train, val and test datasets\n",
    "train_data_tokens_3grams = pkl.load(open(\"train_data_tokens_3grams.p\", \"rb\"))\n",
    "all_train_tokens_3grams = pkl.load(open(\"all_train_tokens_3grams.p\", \"rb\"))\n",
    "\n",
    "val_data_tokens_3grams = pkl.load(open(\"val_data_tokens_3grams.p\", \"rb\"))\n",
    "test_data_tokens_3grams = pkl.load(open(\"test_data_tokens_3grams.p\", \"rb\"))\n",
    "\n",
    "# double checking\n",
    "print (\"Train dataset size is {}\".format(len(train_data_tokens_3grams)))\n",
    "print (\"Val dataset size is {}\".format(len(val_data_tokens_3grams)))\n",
    "print (\"Test dataset size is {}\".format(len(test_data_tokens_3grams)))\n",
    "\n",
    "print (\"Total number of tokens in train dataset is {}\".format(len(all_train_tokens_3grams)))"
   ]
  },
  {
   "cell_type": "code",
   "execution_count": 108,
   "metadata": {},
   "outputs": [
    {
     "name": "stdout",
     "output_type": "stream",
     "text": [
      "Token id 24901 ; Token ('acts', 'as')\n",
      "Token ('acts', 'as'); Token id 24901\n",
      "Train dataset size is 20000\n",
      "Val dataset size is 5000\n",
      "Test dataset size is 25000\n"
     ]
    }
   ],
   "source": [
    "token2id, id2token = build_vocab(all_train_tokens_3grams)\n",
    "\n",
    "# Lets check the dictionary by loading random token from it\n",
    "\n",
    "random_token_id = randint(0, len(id2token)-1)\n",
    "random_token = id2token[random_token_id]\n",
    "\n",
    "print (\"Token id {} ; Token {}\".format(random_token_id, id2token[random_token_id]))\n",
    "print (\"Token {}; Token id {}\".format(random_token, token2id[random_token]))\n",
    "\n",
    "# convert token to id in the dataset\n",
    "def token2index_dataset(tokens_data):\n",
    "    indices_data = []\n",
    "    for tokens in tokens_data:\n",
    "        index_list = [token2id[token] if token in token2id else UNK_IDX for token in tokens]\n",
    "        indices_data.append(index_list)\n",
    "    return indices_data\n",
    "\n",
    "train_data_indices = token2index_dataset(train_data_tokens_3grams)\n",
    "val_data_indices = token2index_dataset(val_data_tokens_3grams)\n",
    "test_data_indices = token2index_dataset(test_data_tokens_3grams)\n",
    "\n",
    "# double checking\n",
    "print (\"Train dataset size is {}\".format(len(train_data_indices)))\n",
    "print (\"Val dataset size is {}\".format(len(val_data_indices)))\n",
    "print (\"Test dataset size is {}\".format(len(test_data_indices)))"
   ]
  },
  {
   "cell_type": "code",
   "execution_count": 109,
   "metadata": {},
   "outputs": [],
   "source": [
    "MAX_SENTENCE_LENGTH = 500\n",
    "\n",
    "import numpy as np\n",
    "import torch\n",
    "from torch.utils.data import Dataset\n",
    "\n",
    "class IMDBDataset(Dataset):\n",
    "    \"\"\"\n",
    "    Class that represents a train/validation/test dataset that's readable for PyTorch\n",
    "    Note that this class inherits torch.utils.data.Dataset\n",
    "    \"\"\"\n",
    "    \n",
    "    def __init__(self, data_list, target_list):\n",
    "        \"\"\"\n",
    "        @param data_list: list of IMDB tokens \n",
    "        @param target_list: list of IMDB targets \n",
    "\n",
    "        \"\"\"\n",
    "        self.data_list = data_list\n",
    "        self.target_list = target_list\n",
    "        assert (len(self.data_list) == len(self.target_list))\n",
    "\n",
    "    def __len__(self):\n",
    "        return len(self.data_list)\n",
    "        \n",
    "    def __getitem__(self, key):\n",
    "        \"\"\"\n",
    "        Triggered when you call dataset[i]\n",
    "        \"\"\"\n",
    "        \n",
    "        token_idx = self.data_list[key][:MAX_SENTENCE_LENGTH]\n",
    "        label = self.target_list[key]\n",
    "        return [token_idx, len(token_idx), label]\n",
    "\n",
    "def IMDB_collate_func(batch):\n",
    "    \"\"\"\n",
    "    Customized function for DataLoader that dynamically pads the batch so that all \n",
    "    data have the same length\n",
    "    \"\"\"\n",
    "    data_list = []\n",
    "    label_list = []\n",
    "    length_list = []\n",
    "    #print(\"collate batch: \", batch[0][0])\n",
    "    #batch[0][0] = batch[0][0][:MAX_SENTENCE_LENGTH]\n",
    "    for datum in batch:\n",
    "        label_list.append(datum[2])\n",
    "        length_list.append(datum[1])\n",
    "    # padding\n",
    "    for datum in batch:\n",
    "        padded_vec = np.pad(np.array(datum[0]), \n",
    "                                pad_width=((0,MAX_SENTENCE_LENGTH-datum[1])), \n",
    "                                mode=\"constant\", constant_values=0)\n",
    "        data_list.append(padded_vec)\n",
    "    return [torch.from_numpy(np.array(data_list)), torch.LongTensor(length_list), torch.LongTensor(label_list)]\n",
    "\n",
    "# create pytorch dataloader\n",
    "#train_loader = IMDBDataset(train_data_indices, train_targets)\n",
    "#val_loader = IMDBDataset(val_data_indices, val_targets)\n",
    "#test_loader = IMDBDataset(test_data_indices, test_targets)\n",
    "\n",
    "BATCH_SIZE = 50\n",
    "train_dataset = IMDBDataset(train_data_indices, train_targets)\n",
    "train_loader = torch.utils.data.DataLoader(dataset=train_dataset, \n",
    "                                           batch_size=BATCH_SIZE,\n",
    "                                           collate_fn=IMDB_collate_func,\n",
    "                                           shuffle=True)\n",
    "\n",
    "val_dataset = IMDBDataset(val_data_indices, val_targets)\n",
    "val_loader = torch.utils.data.DataLoader(dataset=val_dataset, \n",
    "                                           batch_size=BATCH_SIZE,\n",
    "                                           collate_fn=IMDB_collate_func,\n",
    "                                           shuffle=True)\n",
    "\n",
    "test_dataset = IMDBDataset(test_data_indices, test_targets)\n",
    "test_loader = torch.utils.data.DataLoader(dataset=test_dataset, \n",
    "                                           batch_size=BATCH_SIZE,\n",
    "                                           collate_fn=IMDB_collate_func,\n",
    "                                           shuffle=False)\n",
    "\n",
    "# for i, (data, lengths, labels) in enumerate(train_loader):\n",
    "#    print (data)\n",
    "#    print (labels)\n",
    "#    break"
   ]
  },
  {
   "cell_type": "code",
   "execution_count": 110,
   "metadata": {},
   "outputs": [],
   "source": [
    "emb_dim = 100\n",
    "model = BagOfWords(len(id2token), emb_dim)"
   ]
  },
  {
   "cell_type": "code",
   "execution_count": 111,
   "metadata": {},
   "outputs": [
    {
     "name": "stdout",
     "output_type": "stream",
     "text": [
      "Epoch: [1/5], Step: [101/400], Validation Acc: 7.74\n",
      "Epoch: [1/5], Step: [201/400], Validation Acc: 12.2\n",
      "Epoch: [1/5], Step: [301/400], Validation Acc: 64.1\n",
      "Epoch: [2/5], Step: [101/400], Validation Acc: 75.76\n",
      "Epoch: [2/5], Step: [201/400], Validation Acc: 60.92\n",
      "Epoch: [2/5], Step: [301/400], Validation Acc: 70.28\n",
      "Epoch: [3/5], Step: [101/400], Validation Acc: 73.3\n",
      "Epoch: [3/5], Step: [201/400], Validation Acc: 65.38\n",
      "Epoch: [3/5], Step: [301/400], Validation Acc: 68.48\n",
      "Epoch: [4/5], Step: [101/400], Validation Acc: 65.4\n",
      "Epoch: [4/5], Step: [201/400], Validation Acc: 70.0\n",
      "Epoch: [4/5], Step: [301/400], Validation Acc: 73.74\n",
      "Epoch: [5/5], Step: [101/400], Validation Acc: 73.46\n",
      "Epoch: [5/5], Step: [201/400], Validation Acc: 76.66\n",
      "Epoch: [5/5], Step: [301/400], Validation Acc: 69.64\n"
     ]
    }
   ],
   "source": [
    "learning_rate = 0.01\n",
    "num_epochs = 5 # number epoch to train\n",
    "\n",
    "# Criterion and Optimizer\n",
    "criterion = torch.nn.CrossEntropyLoss()  \n",
    "optimizer = torch.optim.Adam(model.parameters(), lr=learning_rate)\n",
    "\n",
    "# Function for testing the model\n",
    "def test_model(loader, model):\n",
    "    \"\"\"\n",
    "    Help function that tests the model's performance on a dataset\n",
    "    @param: loader - data loader for the dataset to test against\n",
    "    \"\"\"\n",
    "    correct = 0\n",
    "    total = 0\n",
    "    model.eval()\n",
    "    for data, lengths, labels in loader:\n",
    "        data_batch, length_batch, label_batch = data, lengths, labels\n",
    "        outputs = F.softmax(model(data_batch, length_batch), dim=1)\n",
    "        predicted = outputs.max(1, keepdim=True)[1]\n",
    "        \n",
    "        total += labels.size(0)\n",
    "        correct += predicted.eq(labels.view_as(predicted)).sum().item()\n",
    "    return (100 * correct / total)\n",
    "\n",
    "for epoch in range(num_epochs):\n",
    "    for i, (data, lengths, labels) in enumerate(train_loader):\n",
    "        model.train()\n",
    "        data_batch, length_batch, label_batch = data, lengths, labels\n",
    "        optimizer.zero_grad()\n",
    "        outputs = model(data_batch, length_batch)\n",
    "        loss = criterion(outputs, label_batch)\n",
    "        loss.backward()\n",
    "        optimizer.step()\n",
    "        # validate every 100 iterations\n",
    "        if i > 0 and i % 100 == 0:\n",
    "            # validate\n",
    "            val_acc = test_model(val_loader, model)\n",
    "            print('Epoch: [{}/{}], Step: [{}/{}], Validation Acc: {}'.format( \n",
    "                       epoch+1, num_epochs, i+1, len(train_loader), val_acc))\n"
   ]
  },
  {
   "cell_type": "code",
   "execution_count": 112,
   "metadata": {},
   "outputs": [
    {
     "name": "stdout",
     "output_type": "stream",
     "text": [
      "After training for 5 epochs\n",
      "Val Acc 64.9\n"
     ]
    }
   ],
   "source": [
    "print (\"After training for {} epochs\".format(num_epochs))\n",
    "print (\"Val Acc {}\".format(test_model(val_loader, model)))"
   ]
  },
  {
   "cell_type": "markdown",
   "metadata": {},
   "source": [
    "## N = 4"
   ]
  },
  {
   "cell_type": "code",
   "execution_count": null,
   "metadata": {},
   "outputs": [],
   "source": [
    "# 4-grams\n",
    "#train set tokens\n",
    "print (\"Tokenizing train data\")\n",
    "train_data_tokens_4grams, all_train_tokens_4grams = tokenize_dataset(train_data,4)\n",
    "\n",
    "all_train_tokens_4grams = all_train_tokens_4grams + all_train_tokens_3grams\n",
    "\n",
    "pkl.dump(train_data_tokens_4grams, open(\"train_data_tokens_4grams.p\", \"wb\"))\n",
    "pkl.dump(all_train_tokens_4grams, open(\"all_train_tokens_4grams.p\", \"wb\"))\n",
    "\n",
    "\n",
    "#val set tokens\n",
    "print (\"Tokenizing val data\")\n",
    "val_data_tokens_4grams, _ = tokenize_dataset(val_data,4)\n",
    "\n",
    "pkl.dump(val_data_tokens_4grams, open(\"val_data_tokens_4grams.p\", \"wb\"))\n",
    "\n",
    "#test set tokens\n",
    "print (\"Tokenizing test data\")\n",
    "test_data_tokens_4grams, _ = tokenize_dataset(test_data,4)\n",
    "\n",
    "pkl.dump(test_data_tokens_4grams, open(\"test_data_tokens_4grams.p\", \"wb\"))"
   ]
  },
  {
   "cell_type": "code",
   "execution_count": 113,
   "metadata": {},
   "outputs": [
    {
     "name": "stdout",
     "output_type": "stream",
     "text": [
      "Train dataset size is 20000\n",
      "Val dataset size is 5000\n",
      "Test dataset size is 25000\n",
      "Total number of tokens in train dataset is 19190240\n"
     ]
    }
   ],
   "source": [
    "# Then, load preprocessed train, val and test datasets\n",
    "train_data_tokens_4grams = pkl.load(open(\"train_data_tokens_4grams.p\", \"rb\"))\n",
    "all_train_tokens_4grams = pkl.load(open(\"all_train_tokens_4grams.p\", \"rb\"))\n",
    "\n",
    "val_data_tokens_4grams = pkl.load(open(\"val_data_tokens_4grams.p\", \"rb\"))\n",
    "test_data_tokens_4grams = pkl.load(open(\"test_data_tokens_4grams.p\", \"rb\"))\n",
    "\n",
    "# double checking\n",
    "print (\"Train dataset size is {}\".format(len(train_data_tokens_4grams)))\n",
    "print (\"Val dataset size is {}\".format(len(val_data_tokens_4grams)))\n",
    "print (\"Test dataset size is {}\".format(len(test_data_tokens_4grams)))\n",
    "\n",
    "print (\"Total number of tokens in train dataset is {}\".format(len(all_train_tokens_4grams)))"
   ]
  },
  {
   "cell_type": "code",
   "execution_count": 114,
   "metadata": {},
   "outputs": [],
   "source": [
    "token2id, id2token = build_vocab(all_train_tokens_4grams)"
   ]
  },
  {
   "cell_type": "code",
   "execution_count": 115,
   "metadata": {},
   "outputs": [
    {
     "name": "stdout",
     "output_type": "stream",
     "text": [
      "Token id 22785 ; Token ('year', 'i')\n",
      "Token ('year', 'i'); Token id 22785\n",
      "Train dataset size is 20000\n",
      "Val dataset size is 5000\n",
      "Test dataset size is 25000\n"
     ]
    }
   ],
   "source": [
    "# Lets check the dictionary by loading random token from it\n",
    "\n",
    "random_token_id = randint(0, len(id2token)-1)\n",
    "random_token = id2token[random_token_id]\n",
    "\n",
    "print (\"Token id {} ; Token {}\".format(random_token_id, id2token[random_token_id]))\n",
    "print (\"Token {}; Token id {}\".format(random_token, token2id[random_token]))\n",
    "\n",
    "# convert token to id in the dataset\n",
    "def token2index_dataset(tokens_data):\n",
    "    indices_data = []\n",
    "    for tokens in tokens_data:\n",
    "        index_list = [token2id[token] if token in token2id else UNK_IDX for token in tokens]\n",
    "        indices_data.append(index_list)\n",
    "    return indices_data\n",
    "\n",
    "train_data_indices = token2index_dataset(train_data_tokens_4grams)\n",
    "val_data_indices = token2index_dataset(val_data_tokens_4grams)\n",
    "test_data_indices = token2index_dataset(test_data_tokens_4grams)\n",
    "\n",
    "# double checking\n",
    "print (\"Train dataset size is {}\".format(len(train_data_indices)))\n",
    "print (\"Val dataset size is {}\".format(len(val_data_indices)))\n",
    "print (\"Test dataset size is {}\".format(len(test_data_indices)))"
   ]
  },
  {
   "cell_type": "code",
   "execution_count": 116,
   "metadata": {},
   "outputs": [],
   "source": [
    "MAX_SENTENCE_LENGTH = 500\n",
    "\n",
    "import numpy as np\n",
    "import torch\n",
    "from torch.utils.data import Dataset\n",
    "\n",
    "class IMDBDataset(Dataset):\n",
    "    \"\"\"\n",
    "    Class that represents a train/validation/test dataset that's readable for PyTorch\n",
    "    Note that this class inherits torch.utils.data.Dataset\n",
    "    \"\"\"\n",
    "    \n",
    "    def __init__(self, data_list, target_list):\n",
    "        \"\"\"\n",
    "        @param data_list: list of IMDB tokens \n",
    "        @param target_list: list of IMDB targets \n",
    "\n",
    "        \"\"\"\n",
    "        self.data_list = data_list\n",
    "        self.target_list = target_list\n",
    "        assert (len(self.data_list) == len(self.target_list))\n",
    "\n",
    "    def __len__(self):\n",
    "        return len(self.data_list)\n",
    "        \n",
    "    def __getitem__(self, key):\n",
    "        \"\"\"\n",
    "        Triggered when you call dataset[i]\n",
    "        \"\"\"\n",
    "        \n",
    "        token_idx = self.data_list[key][:MAX_SENTENCE_LENGTH]\n",
    "        label = self.target_list[key]\n",
    "        return [token_idx, len(token_idx), label]\n",
    "\n",
    "def IMDB_collate_func(batch):\n",
    "    \"\"\"\n",
    "    Customized function for DataLoader that dynamically pads the batch so that all \n",
    "    data have the same length\n",
    "    \"\"\"\n",
    "    data_list = []\n",
    "    label_list = []\n",
    "    length_list = []\n",
    "    #print(\"collate batch: \", batch[0][0])\n",
    "    #batch[0][0] = batch[0][0][:MAX_SENTENCE_LENGTH]\n",
    "    for datum in batch:\n",
    "        label_list.append(datum[2])\n",
    "        length_list.append(datum[1])\n",
    "    # padding\n",
    "    for datum in batch:\n",
    "        padded_vec = np.pad(np.array(datum[0]), \n",
    "                                pad_width=((0,MAX_SENTENCE_LENGTH-datum[1])), \n",
    "                                mode=\"constant\", constant_values=0)\n",
    "        data_list.append(padded_vec)\n",
    "    return [torch.from_numpy(np.array(data_list)), torch.LongTensor(length_list), torch.LongTensor(label_list)]\n",
    "\n",
    "# create pytorch dataloader\n",
    "#train_loader = IMDBDataset(train_data_indices, train_targets)\n",
    "#val_loader = IMDBDataset(val_data_indices, val_targets)\n",
    "#test_loader = IMDBDataset(test_data_indices, test_targets)\n",
    "\n",
    "BATCH_SIZE = 50\n",
    "train_dataset = IMDBDataset(train_data_indices, train_targets)\n",
    "train_loader = torch.utils.data.DataLoader(dataset=train_dataset, \n",
    "                                           batch_size=BATCH_SIZE,\n",
    "                                           collate_fn=IMDB_collate_func,\n",
    "                                           shuffle=True)\n",
    "\n",
    "val_dataset = IMDBDataset(val_data_indices, val_targets)\n",
    "val_loader = torch.utils.data.DataLoader(dataset=val_dataset, \n",
    "                                           batch_size=BATCH_SIZE,\n",
    "                                           collate_fn=IMDB_collate_func,\n",
    "                                           shuffle=True)\n",
    "\n",
    "test_dataset = IMDBDataset(test_data_indices, test_targets)\n",
    "test_loader = torch.utils.data.DataLoader(dataset=test_dataset, \n",
    "                                           batch_size=BATCH_SIZE,\n",
    "                                           collate_fn=IMDB_collate_func,\n",
    "                                           shuffle=False)\n",
    "\n",
    "# for i, (data, lengths, labels) in enumerate(train_loader):\n",
    "#    print (data)\n",
    "#    print (labels)\n",
    "#    break"
   ]
  },
  {
   "cell_type": "code",
   "execution_count": 117,
   "metadata": {},
   "outputs": [],
   "source": [
    "emb_dim = 100\n",
    "model = BagOfWords(len(id2token), emb_dim)"
   ]
  },
  {
   "cell_type": "code",
   "execution_count": 120,
   "metadata": {},
   "outputs": [
    {
     "name": "stdout",
     "output_type": "stream",
     "text": [
      "Epoch: [1/5], Step: [101/400], Validation Acc: 57.06\n",
      "Epoch: [1/5], Step: [201/400], Validation Acc: 54.92\n",
      "Epoch: [1/5], Step: [301/400], Validation Acc: 58.9\n",
      "Epoch: [2/5], Step: [101/400], Validation Acc: 48.54\n",
      "Epoch: [2/5], Step: [201/400], Validation Acc: 48.72\n",
      "Epoch: [2/5], Step: [301/400], Validation Acc: 57.38\n",
      "Epoch: [3/5], Step: [101/400], Validation Acc: 56.74\n",
      "Epoch: [3/5], Step: [201/400], Validation Acc: 78.6\n",
      "Epoch: [3/5], Step: [301/400], Validation Acc: 48.42\n",
      "Epoch: [4/5], Step: [101/400], Validation Acc: 47.6\n",
      "Epoch: [4/5], Step: [201/400], Validation Acc: 61.1\n",
      "Epoch: [4/5], Step: [301/400], Validation Acc: 52.9\n",
      "Epoch: [5/5], Step: [101/400], Validation Acc: 55.76\n",
      "Epoch: [5/5], Step: [201/400], Validation Acc: 52.92\n",
      "Epoch: [5/5], Step: [301/400], Validation Acc: 53.12\n"
     ]
    }
   ],
   "source": [
    "learning_rate = 0.01\n",
    "num_epochs = 5 # number epoch to train\n",
    "\n",
    "# Criterion and Optimizer\n",
    "criterion = torch.nn.CrossEntropyLoss()  \n",
    "optimizer = torch.optim.Adam(model.parameters(), lr=learning_rate)\n",
    "\n",
    "# Function for testing the model\n",
    "def test_model(loader, model):\n",
    "    \"\"\"\n",
    "    Help function that tests the model's performance on a dataset\n",
    "    @param: loader - data loader for the dataset to test against\n",
    "    \"\"\"\n",
    "    correct = 0\n",
    "    total = 0\n",
    "    model.eval()\n",
    "    for data, lengths, labels in loader:\n",
    "        data_batch, length_batch, label_batch = data, lengths, labels\n",
    "        outputs = F.softmax(model(data_batch, length_batch), dim=1)\n",
    "        predicted = outputs.max(1, keepdim=True)[1]\n",
    "        \n",
    "        total += labels.size(0)\n",
    "        correct += predicted.eq(labels.view_as(predicted)).sum().item()\n",
    "    return (100 * correct / total)\n",
    "\n",
    "for epoch in range(num_epochs):\n",
    "    for i, (data, lengths, labels) in enumerate(train_loader):\n",
    "        model.train()\n",
    "        data_batch, length_batch, label_batch = data, lengths, labels\n",
    "        optimizer.zero_grad()\n",
    "        outputs = model(data_batch, length_batch)\n",
    "        loss = criterion(outputs, label_batch)\n",
    "        loss.backward()\n",
    "        optimizer.step()\n",
    "        # validate every 100 iterations\n",
    "        if i > 0 and i % 100 == 0:\n",
    "            # validate\n",
    "            val_acc = test_model(val_loader, model)\n",
    "            print('Epoch: [{}/{}], Step: [{}/{}], Validation Acc: {}'.format( \n",
    "                       epoch+1, num_epochs, i+1, len(train_loader), val_acc))\n"
   ]
  },
  {
   "cell_type": "code",
   "execution_count": 121,
   "metadata": {},
   "outputs": [
    {
     "name": "stdout",
     "output_type": "stream",
     "text": [
      "After training for 5 epochs\n",
      "Val Acc 52.52\n"
     ]
    }
   ],
   "source": [
    "print (\"After training for {} epochs\".format(num_epochs))\n",
    "print (\"Val Acc {}\".format(test_model(val_loader, model)))"
   ]
  },
  {
   "cell_type": "markdown",
   "metadata": {},
   "source": [
    "## Bag-of-2-Grams model\n",
    "### Vary the vocabulary size"
   ]
  },
  {
   "cell_type": "code",
   "execution_count": 123,
   "metadata": {},
   "outputs": [],
   "source": [
    "# Then, load preprocessed train, val and test datasets\n",
    "train_data_tokens_2grams = pkl.load(open(\"train_data_tokens_2grams.p\", \"rb\"))\n",
    "all_train_tokens_2grams = pkl.load(open(\"all_train_tokens_2grams.p\", \"rb\"))\n",
    "\n",
    "val_data_tokens_2grams = pkl.load(open(\"val_data_tokens_2grams.p\", \"rb\"))\n",
    "test_data_tokens_2grams = pkl.load(open(\"test_data_tokens_2grams.p\", \"rb\"))"
   ]
  },
  {
   "cell_type": "code",
   "execution_count": 160,
   "metadata": {},
   "outputs": [],
   "source": [
    "size = [10000,15000,20000,25000,30000]"
   ]
  },
  {
   "cell_type": "code",
   "execution_count": 161,
   "metadata": {
    "scrolled": false
   },
   "outputs": [
    {
     "name": "stdout",
     "output_type": "stream",
     "text": [
      "--------------------\n",
      "Vocabulary Size =  10000\n",
      "Epoch: [1/5], Step: [101/400], Validation Acc: 83.1\n",
      "Epoch: [1/5], Step: [201/400], Validation Acc: 72.72\n",
      "Epoch: [1/5], Step: [301/400], Validation Acc: 70.54\n",
      "Epoch: [2/5], Step: [101/400], Validation Acc: 72.34\n",
      "Epoch: [2/5], Step: [201/400], Validation Acc: 80.1\n",
      "Epoch: [2/5], Step: [301/400], Validation Acc: 75.36\n",
      "Epoch: [3/5], Step: [101/400], Validation Acc: 73.56\n",
      "Epoch: [3/5], Step: [201/400], Validation Acc: 80.48\n",
      "Epoch: [3/5], Step: [301/400], Validation Acc: 76.02\n",
      "Epoch: [4/5], Step: [101/400], Validation Acc: 68.86\n",
      "Epoch: [4/5], Step: [201/400], Validation Acc: 77.34\n",
      "Epoch: [4/5], Step: [301/400], Validation Acc: 77.94\n",
      "Epoch: [5/5], Step: [101/400], Validation Acc: 74.0\n",
      "Epoch: [5/5], Step: [201/400], Validation Acc: 75.28\n",
      "Epoch: [5/5], Step: [301/400], Validation Acc: 75.66\n",
      "After training for 5 epochs\n",
      "Val Acc 71.78\n",
      "\n",
      "\n",
      "\n",
      "\n",
      "--------------------\n",
      "Vocabulary Size =  15000\n",
      "Epoch: [1/5], Step: [101/400], Validation Acc: 53.04\n",
      "Epoch: [1/5], Step: [201/400], Validation Acc: 77.26\n",
      "Epoch: [1/5], Step: [301/400], Validation Acc: 84.62\n",
      "Epoch: [2/5], Step: [101/400], Validation Acc: 79.1\n",
      "Epoch: [2/5], Step: [201/400], Validation Acc: 82.5\n",
      "Epoch: [2/5], Step: [301/400], Validation Acc: 84.58\n",
      "Epoch: [3/5], Step: [101/400], Validation Acc: 80.22\n",
      "Epoch: [3/5], Step: [201/400], Validation Acc: 79.7\n",
      "Epoch: [3/5], Step: [301/400], Validation Acc: 82.94\n",
      "Epoch: [4/5], Step: [101/400], Validation Acc: 81.68\n",
      "Epoch: [4/5], Step: [201/400], Validation Acc: 77.74\n",
      "Epoch: [4/5], Step: [301/400], Validation Acc: 77.14\n",
      "Epoch: [5/5], Step: [101/400], Validation Acc: 78.68\n",
      "Epoch: [5/5], Step: [201/400], Validation Acc: 73.96\n",
      "Epoch: [5/5], Step: [301/400], Validation Acc: 81.94\n",
      "After training for 5 epochs\n",
      "Val Acc 76.66\n",
      "\n",
      "\n",
      "\n",
      "\n",
      "--------------------\n",
      "Vocabulary Size =  20000\n",
      "Epoch: [1/5], Step: [101/400], Validation Acc: 59.06\n",
      "Epoch: [1/5], Step: [201/400], Validation Acc: 63.62\n",
      "Epoch: [1/5], Step: [301/400], Validation Acc: 89.22\n",
      "Epoch: [2/5], Step: [101/400], Validation Acc: 85.94\n",
      "Epoch: [2/5], Step: [201/400], Validation Acc: 84.32\n",
      "Epoch: [2/5], Step: [301/400], Validation Acc: 78.7\n",
      "Epoch: [3/5], Step: [101/400], Validation Acc: 81.96\n",
      "Epoch: [3/5], Step: [201/400], Validation Acc: 75.28\n",
      "Epoch: [3/5], Step: [301/400], Validation Acc: 78.12\n",
      "Epoch: [4/5], Step: [101/400], Validation Acc: 81.66\n",
      "Epoch: [4/5], Step: [201/400], Validation Acc: 80.42\n",
      "Epoch: [4/5], Step: [301/400], Validation Acc: 78.46\n",
      "Epoch: [5/5], Step: [101/400], Validation Acc: 80.56\n",
      "Epoch: [5/5], Step: [201/400], Validation Acc: 73.0\n",
      "Epoch: [5/5], Step: [301/400], Validation Acc: 73.78\n",
      "After training for 5 epochs\n",
      "Val Acc 74.18\n",
      "\n",
      "\n",
      "\n",
      "\n",
      "--------------------\n",
      "Vocabulary Size =  25000\n",
      "Epoch: [1/5], Step: [101/400], Validation Acc: 30.68\n",
      "Epoch: [1/5], Step: [201/400], Validation Acc: 73.82\n",
      "Epoch: [1/5], Step: [301/400], Validation Acc: 86.6\n",
      "Epoch: [2/5], Step: [101/400], Validation Acc: 82.82\n",
      "Epoch: [2/5], Step: [201/400], Validation Acc: 77.6\n",
      "Epoch: [2/5], Step: [301/400], Validation Acc: 74.96\n",
      "Epoch: [3/5], Step: [101/400], Validation Acc: 84.52\n",
      "Epoch: [3/5], Step: [201/400], Validation Acc: 82.32\n",
      "Epoch: [3/5], Step: [301/400], Validation Acc: 80.44\n",
      "Epoch: [4/5], Step: [101/400], Validation Acc: 81.48\n",
      "Epoch: [4/5], Step: [201/400], Validation Acc: 80.16\n",
      "Epoch: [4/5], Step: [301/400], Validation Acc: 83.58\n",
      "Epoch: [5/5], Step: [101/400], Validation Acc: 82.14\n",
      "Epoch: [5/5], Step: [201/400], Validation Acc: 82.86\n",
      "Epoch: [5/5], Step: [301/400], Validation Acc: 82.54\n",
      "After training for 5 epochs\n",
      "Val Acc 80.6\n",
      "\n",
      "\n",
      "\n",
      "\n",
      "--------------------\n",
      "Vocabulary Size =  30000\n",
      "Epoch: [1/5], Step: [101/400], Validation Acc: 29.96\n",
      "Epoch: [1/5], Step: [201/400], Validation Acc: 71.26\n",
      "Epoch: [1/5], Step: [301/400], Validation Acc: 73.1\n",
      "Epoch: [2/5], Step: [101/400], Validation Acc: 76.9\n",
      "Epoch: [2/5], Step: [201/400], Validation Acc: 67.26\n",
      "Epoch: [2/5], Step: [301/400], Validation Acc: 84.92\n",
      "Epoch: [3/5], Step: [101/400], Validation Acc: 84.56\n",
      "Epoch: [3/5], Step: [201/400], Validation Acc: 80.36\n",
      "Epoch: [3/5], Step: [301/400], Validation Acc: 83.82\n",
      "Epoch: [4/5], Step: [101/400], Validation Acc: 80.54\n",
      "Epoch: [4/5], Step: [201/400], Validation Acc: 80.6\n",
      "Epoch: [4/5], Step: [301/400], Validation Acc: 82.06\n",
      "Epoch: [5/5], Step: [101/400], Validation Acc: 80.98\n",
      "Epoch: [5/5], Step: [201/400], Validation Acc: 81.26\n",
      "Epoch: [5/5], Step: [301/400], Validation Acc: 81.2\n",
      "After training for 5 epochs\n",
      "Val Acc 82.08\n",
      "\n",
      "\n",
      "\n",
      "\n"
     ]
    }
   ],
   "source": [
    "def build_vocab(all_tokens):\n",
    "    # Returns:\n",
    "    # id2token: list of tokens, where id2token[i] returns token that corresponds to token i\n",
    "    # token2id: dictionary where keys represent tokens and corresponding values represent indices\n",
    "    token_counter = Counter(all_tokens)\n",
    "    vocab, count = zip(*token_counter.most_common(max_vocab_size))\n",
    "    id2token = list(vocab)\n",
    "    token2id = dict(zip(vocab, range(2,2+len(vocab)))) \n",
    "    id2token = ['<pad>', '<unk>'] + id2token\n",
    "    token2id['<pad>'] = PAD_IDX \n",
    "    token2id['<unk>'] = UNK_IDX\n",
    "    return token2id, id2token\n",
    "\n",
    "def token2index_dataset(tokens_data):\n",
    "    indices_data = []\n",
    "    for tokens in tokens_data:\n",
    "        index_list = [token2id[token] if token in token2id else UNK_IDX for token in tokens]\n",
    "        indices_data.append(index_list)\n",
    "    return indices_data\n",
    "\n",
    "def test_model(loader, model):\n",
    "    \"\"\"\n",
    "    Help function that tests the model's performance on a dataset\n",
    "    @param: loader - data loader for the dataset to test against\n",
    "    \"\"\"\n",
    "    correct = 0\n",
    "    total = 0\n",
    "    model.eval()\n",
    "    for data, lengths, labels in loader:\n",
    "        data_batch, length_batch, label_batch = data, lengths, labels\n",
    "        outputs = F.softmax(model(data_batch, length_batch), dim=1)\n",
    "        predicted = outputs.max(1, keepdim=True)[1]\n",
    "        \n",
    "        total += labels.size(0)\n",
    "        correct += predicted.eq(labels.view_as(predicted)).sum().item()\n",
    "    return (100 * correct / total)\n",
    "\n",
    "for i in range(len(size)):\n",
    "    max_vocab_size = int(size[i])\n",
    "    PAD_IDX = 0\n",
    "    UNK_IDX = 1\n",
    "    token2id, id2token = build_vocab(all_train_tokens_2grams)\n",
    "    \n",
    "    # convert token to id in the dataset\n",
    "    train_data_indices = token2index_dataset(train_data_tokens_2grams)\n",
    "    val_data_indices = token2index_dataset(val_data_tokens_2grams)\n",
    "    test_data_indices = token2index_dataset(test_data_tokens_2grams)\n",
    "    \n",
    "    train_dataset = IMDBDataset(train_data_indices, train_targets)\n",
    "    train_loader = torch.utils.data.DataLoader(dataset=train_dataset, \n",
    "                                           batch_size=BATCH_SIZE,\n",
    "                                           collate_fn=IMDB_collate_func,\n",
    "                                           shuffle=True)\n",
    "\n",
    "    val_dataset = IMDBDataset(val_data_indices, val_targets)\n",
    "    val_loader = torch.utils.data.DataLoader(dataset=val_dataset, \n",
    "                                               batch_size=BATCH_SIZE,\n",
    "                                               collate_fn=IMDB_collate_func,\n",
    "                                               shuffle=True)\n",
    "\n",
    "    test_dataset = IMDBDataset(test_data_indices, test_targets)\n",
    "    test_loader = torch.utils.data.DataLoader(dataset=test_dataset, \n",
    "                                               batch_size=BATCH_SIZE,\n",
    "                                               collate_fn=IMDB_collate_func,\n",
    "                                               shuffle=False)\n",
    "    emb_dim = 100\n",
    "    model = BagOfWords(len(id2token), emb_dim)\n",
    "    learning_rate = 0.01\n",
    "    num_epochs = 5 # number epoch to train\n",
    "    criterion = torch.nn.CrossEntropyLoss()  \n",
    "    optimizer = torch.optim.Adam(model.parameters(), lr=learning_rate)\n",
    "    \n",
    "    print(\"-\"*20)\n",
    "    print('Vocabulary Size = ',size[i])\n",
    "    \n",
    "\n",
    "    for epoch in range(num_epochs):\n",
    "        for i, (data, lengths, labels) in enumerate(train_loader):\n",
    "            model.train()\n",
    "            data_batch, length_batch, label_batch = data, lengths, labels\n",
    "            optimizer.zero_grad()\n",
    "            outputs = model(data_batch, length_batch)\n",
    "            loss = criterion(outputs, label_batch)\n",
    "            loss.backward()\n",
    "            optimizer.step()\n",
    "            # validate every 100 iterations\n",
    "            if i > 0 and i % 100 == 0:\n",
    "                # validate\n",
    "                val_acc = test_model(val_loader, model)\n",
    "                print('Epoch: [{}/{}], Step: [{}/{}], Validation Acc: {}'.format( \n",
    "                           epoch+1, num_epochs, i+1, len(train_loader), val_acc))\n",
    "    print (\"After training for {} epochs\".format(num_epochs))\n",
    "    print (\"Val Acc {}\".format(test_model(val_loader, model)))\n",
    "    print('\\n'*3)"
   ]
  },
  {
   "cell_type": "markdown",
   "metadata": {},
   "source": [
    "## Bag-of-2-Grams model\n",
    "### Vocabulary Size = 30000\n",
    "### Vary the embedding size"
   ]
  },
  {
   "cell_type": "code",
   "execution_count": 165,
   "metadata": {},
   "outputs": [],
   "source": [
    "size = [100,300,500]"
   ]
  },
  {
   "cell_type": "code",
   "execution_count": null,
   "metadata": {
    "scrolled": false
   },
   "outputs": [],
   "source": [
    "max_vocab_size = 30000\n",
    "PAD_IDX = 0\n",
    "UNK_IDX = 1\n",
    "def build_vocab(all_tokens):\n",
    "    # Returns:\n",
    "    # id2token: list of tokens, where id2token[i] returns token that corresponds to token i\n",
    "    # token2id: dictionary where keys represent tokens and corresponding values represent indices\n",
    "        token_counter = Counter(all_tokens)\n",
    "        vocab, count = zip(*token_counter.most_common(max_vocab_size))\n",
    "        id2token = list(vocab)\n",
    "        token2id = dict(zip(vocab, range(2,2+len(vocab)))) \n",
    "        id2token = ['<pad>', '<unk>'] + id2token\n",
    "        token2id['<pad>'] = PAD_IDX \n",
    "        token2id['<unk>'] = UNK_IDX\n",
    "        return token2id, id2token\n",
    "\n",
    "token2id, id2token = build_vocab(all_train_tokens_2grams)\n",
    "\n",
    "# convert token to id in the dataset\n",
    "train_data_indices = token2index_dataset(train_data_tokens_2grams)\n",
    "val_data_indices = token2index_dataset(val_data_tokens_2grams)\n",
    "test_data_indices = token2index_dataset(test_data_tokens_2grams)\n",
    "\n",
    "train_dataset = IMDBDataset(train_data_indices, train_targets)\n",
    "train_loader = torch.utils.data.DataLoader(dataset=train_dataset, \n",
    "                                       batch_size=BATCH_SIZE,\n",
    "                                       collate_fn=IMDB_collate_func,\n",
    "                                       shuffle=True)\n",
    "\n",
    "val_dataset = IMDBDataset(val_data_indices, val_targets)\n",
    "val_loader = torch.utils.data.DataLoader(dataset=val_dataset, \n",
    "                                           batch_size=BATCH_SIZE,\n",
    "                                           collate_fn=IMDB_collate_func,\n",
    "                                           shuffle=True)\n",
    "\n",
    "test_dataset = IMDBDataset(test_data_indices, test_targets)\n",
    "test_loader = torch.utils.data.DataLoader(dataset=test_dataset, \n",
    "                                           batch_size=BATCH_SIZE,\n",
    "                                           collate_fn=IMDB_collate_func,\n",
    "                                           shuffle=False)\n",
    "for i in range(len(size)):\n",
    "    emb_dim = 0.05\n",
    "    model = BagOfWords(len(id2token), emb_dim)\n",
    "    learning_rate = 0.01\n",
    "    num_epochs = 5 # number epoch to train\n",
    "    criterion = torch.nn.CrossEntropyLoss()  \n",
    "    optimizer = torch.optim.Adam(model.parameters(), lr=learning_rate)\n",
    "\n",
    "    print(\"-\"*20)\n",
    "    print('Embedding Size = ',size[i])\n",
    "\n",
    "    for epoch in range(num_epochs):\n",
    "        for i, (data, lengths, labels) in enumerate(train_loader):\n",
    "            model.train()\n",
    "            data_batch, length_batch, label_batch = data, lengths, labels\n",
    "            optimizer.zero_grad()\n",
    "            outputs = model(data_batch, length_batch)\n",
    "            loss = criterion(outputs, label_batch)\n",
    "            loss.backward()\n",
    "            optimizer.step()\n",
    "            # validate every 100 iterations\n",
    "            if i > 0 and i % 100 == 0:\n",
    "                # validate\n",
    "                val_acc = test_model(val_loader, model)\n",
    "                print('Epoch: [{}/{}], Step: [{}/{}], Validation Acc: {}'.format( \n",
    "                           epoch+1, num_epochs, i+1, len(train_loader), val_acc))\n",
    "    print (\"After training for {} epochs\".format(num_epochs))\n",
    "    print (\"Val Acc {}\".format(test_model(val_loader, model)))\n",
    "    print('\\n'*2)"
   ]
  },
  {
   "cell_type": "markdown",
   "metadata": {},
   "source": [
    "## Bag-of-2-Grams model\n",
    "### Vocabulary Size = 30000\n",
    "### Embedding Size = 100\n",
    "### Vary optimization hyperparameters"
   ]
  },
  {
   "cell_type": "code",
   "execution_count": 173,
   "metadata": {},
   "outputs": [
    {
     "name": "stdout",
     "output_type": "stream",
     "text": [
      "Epoch: [1/5], Step: [101/400], Validation Acc: 50.4\n",
      "Epoch: [1/5], Step: [201/400], Validation Acc: 66.56\n",
      "Epoch: [1/5], Step: [301/400], Validation Acc: 85.34\n",
      "Epoch: [2/5], Step: [101/400], Validation Acc: 72.04\n",
      "Epoch: [2/5], Step: [201/400], Validation Acc: 82.98\n",
      "Epoch: [2/5], Step: [301/400], Validation Acc: 82.48\n",
      "Epoch: [3/5], Step: [101/400], Validation Acc: 74.0\n",
      "Epoch: [3/5], Step: [201/400], Validation Acc: 84.04\n",
      "Epoch: [3/5], Step: [301/400], Validation Acc: 88.28\n",
      "Epoch: [4/5], Step: [101/400], Validation Acc: 84.6\n",
      "Epoch: [4/5], Step: [201/400], Validation Acc: 85.7\n",
      "Epoch: [4/5], Step: [301/400], Validation Acc: 82.74\n",
      "Epoch: [5/5], Step: [101/400], Validation Acc: 79.86\n",
      "Epoch: [5/5], Step: [201/400], Validation Acc: 83.88\n",
      "Epoch: [5/5], Step: [301/400], Validation Acc: 79.36\n",
      "After training for 5 epochs\n",
      "By using Adam\n",
      "Val Acc 80.78\n"
     ]
    }
   ],
   "source": [
    "max_vocab_size = 30000\n",
    "PAD_IDX = 0\n",
    "UNK_IDX = 1\n",
    "def build_vocab(all_tokens):\n",
    "    # Returns:\n",
    "    # id2token: list of tokens, where id2token[i] returns token that corresponds to token i\n",
    "    # token2id: dictionary where keys represent tokens and corresponding values represent indices\n",
    "        token_counter = Counter(all_tokens)\n",
    "        vocab, count = zip(*token_counter.most_common(max_vocab_size))\n",
    "        id2token = list(vocab)\n",
    "        token2id = dict(zip(vocab, range(2,2+len(vocab)))) \n",
    "        id2token = ['<pad>', '<unk>'] + id2token\n",
    "        token2id['<pad>'] = PAD_IDX \n",
    "        token2id['<unk>'] = UNK_IDX\n",
    "        return token2id, id2token\n",
    "\n",
    "token2id, id2token = build_vocab(all_train_tokens_2grams)\n",
    "\n",
    "# convert token to id in the dataset\n",
    "train_data_indices = token2index_dataset(train_data_tokens_2grams)\n",
    "val_data_indices = token2index_dataset(val_data_tokens_2grams)\n",
    "test_data_indices = token2index_dataset(test_data_tokens_2grams)\n",
    "\n",
    "train_dataset = IMDBDataset(train_data_indices, train_targets)\n",
    "train_loader = torch.utils.data.DataLoader(dataset=train_dataset, \n",
    "                                       batch_size=BATCH_SIZE,\n",
    "                                       collate_fn=IMDB_collate_func,\n",
    "                                       shuffle=True)\n",
    "\n",
    "val_dataset = IMDBDataset(val_data_indices, val_targets)\n",
    "val_loader = torch.utils.data.DataLoader(dataset=val_dataset, \n",
    "                                           batch_size=BATCH_SIZE,\n",
    "                                           collate_fn=IMDB_collate_func,\n",
    "                                           shuffle=True)\n",
    "\n",
    "test_dataset = IMDBDataset(test_data_indices, test_targets)\n",
    "test_loader = torch.utils.data.DataLoader(dataset=test_dataset, \n",
    "                                           batch_size=BATCH_SIZE,\n",
    "                                           collate_fn=IMDB_collate_func,\n",
    "                                           shuffle=False)\n",
    "\n",
    "emb_dim = 100\n",
    "model = BagOfWords(len(id2token), emb_dim)\n",
    "learning_rate = 0.01\n",
    "num_epochs = 5 # number epoch to train\n",
    "criterion = torch.nn.CrossEntropyLoss()  \n",
    "optimizer = torch.optim.Adam(model.parameters(), lr=learning_rate)\n",
    "#optimizer = torch.optim.SGD(model.parameters(), lr=learning_rate)\n",
    "\n",
    "def test_model(loader, model):\n",
    "    \"\"\"\n",
    "    Help function that tests the model's performance on a dataset\n",
    "    @param: loader - data loader for the dataset to test against\n",
    "    \"\"\"\n",
    "    correct = 0\n",
    "    total = 0\n",
    "    model.eval()\n",
    "    for data, lengths, labels in loader:\n",
    "        data_batch, length_batch, label_batch = data, lengths, labels\n",
    "        outputs = F.softmax(model(data_batch, length_batch), dim=1)\n",
    "        predicted = outputs.max(1, keepdim=True)[1]\n",
    "        \n",
    "        total += labels.size(0)\n",
    "        correct += predicted.eq(labels.view_as(predicted)).sum().item()\n",
    "    return (100 * correct / total)\n",
    "\n",
    "for epoch in range(num_epochs):\n",
    "    for i, (data, lengths, labels) in enumerate(train_loader):\n",
    "        model.train()\n",
    "        data_batch, length_batch, label_batch = data, lengths, labels\n",
    "        optimizer.zero_grad()\n",
    "        outputs = model(data_batch, length_batch)\n",
    "        loss = criterion(outputs, label_batch)\n",
    "        loss.backward()\n",
    "        optimizer.step()\n",
    "        # validate every 100 iterations\n",
    "        if i > 0 and i % 100 == 0:\n",
    "            # validate\n",
    "            val_acc = test_model(val_loader, model)\n",
    "            print('Epoch: [{}/{}], Step: [{}/{}], Validation Acc: {}'.format( \n",
    "                       epoch+1, num_epochs, i+1, len(train_loader), val_acc))\n",
    "print (\"After training for {} epochs\".format(num_epochs))\n",
    "print('By using Adam')\n",
    "print (\"Val Acc {}\".format(test_model(val_loader, model)))"
   ]
  },
  {
   "cell_type": "markdown",
   "metadata": {},
   "source": [
    "### Vary Learning Rates"
   ]
  },
  {
   "cell_type": "code",
   "execution_count": 183,
   "metadata": {},
   "outputs": [],
   "source": [
    "rate = [0.01, 0.005, 0.001]"
   ]
  },
  {
   "cell_type": "code",
   "execution_count": 184,
   "metadata": {},
   "outputs": [
    {
     "name": "stdout",
     "output_type": "stream",
     "text": [
      "--------------------\n",
      "Learning Rate =  0.01\n",
      "Epoch: [1/5], Step: [101/400], Validation Acc: 59.66\n",
      "Epoch: [1/5], Step: [201/400], Validation Acc: 62.86\n",
      "Epoch: [1/5], Step: [301/400], Validation Acc: 83.2\n",
      "Epoch: [2/5], Step: [101/400], Validation Acc: 85.2\n",
      "Epoch: [2/5], Step: [201/400], Validation Acc: 89.2\n",
      "Epoch: [2/5], Step: [301/400], Validation Acc: 84.36\n",
      "Epoch: [3/5], Step: [101/400], Validation Acc: 79.84\n",
      "Epoch: [3/5], Step: [201/400], Validation Acc: 81.54\n",
      "Epoch: [3/5], Step: [301/400], Validation Acc: 77.54\n",
      "Epoch: [4/5], Step: [101/400], Validation Acc: 79.48\n",
      "Epoch: [4/5], Step: [201/400], Validation Acc: 83.12\n",
      "Epoch: [4/5], Step: [301/400], Validation Acc: 82.04\n",
      "Epoch: [5/5], Step: [101/400], Validation Acc: 81.54\n",
      "Epoch: [5/5], Step: [201/400], Validation Acc: 78.7\n",
      "Epoch: [5/5], Step: [301/400], Validation Acc: 79.84\n",
      "After training for 5 epochs\n",
      "Val Acc 78.12\n",
      "\n",
      "\n",
      "\n",
      "--------------------\n",
      "Learning Rate =  0.005\n",
      "Epoch: [1/5], Step: [101/400], Validation Acc: 77.76\n",
      "Epoch: [1/5], Step: [201/400], Validation Acc: 80.18\n",
      "Epoch: [1/5], Step: [301/400], Validation Acc: 83.26\n",
      "Epoch: [2/5], Step: [101/400], Validation Acc: 81.8\n",
      "Epoch: [2/5], Step: [201/400], Validation Acc: 80.94\n",
      "Epoch: [2/5], Step: [301/400], Validation Acc: 82.46\n",
      "Epoch: [3/5], Step: [101/400], Validation Acc: 81.28\n",
      "Epoch: [3/5], Step: [201/400], Validation Acc: 79.6\n",
      "Epoch: [3/5], Step: [301/400], Validation Acc: 80.22\n",
      "Epoch: [4/5], Step: [101/400], Validation Acc: 81.62\n",
      "Epoch: [4/5], Step: [201/400], Validation Acc: 80.78\n",
      "Epoch: [4/5], Step: [301/400], Validation Acc: 79.86\n",
      "Epoch: [5/5], Step: [101/400], Validation Acc: 80.22\n",
      "Epoch: [5/5], Step: [201/400], Validation Acc: 80.34\n",
      "Epoch: [5/5], Step: [301/400], Validation Acc: 81.04\n",
      "After training for 5 epochs\n",
      "Val Acc 80.52\n",
      "\n",
      "\n",
      "\n",
      "--------------------\n",
      "Learning Rate =  0.001\n",
      "Epoch: [1/5], Step: [101/400], Validation Acc: 81.14\n",
      "Epoch: [1/5], Step: [201/400], Validation Acc: 80.36\n",
      "Epoch: [1/5], Step: [301/400], Validation Acc: 80.7\n",
      "Epoch: [2/5], Step: [101/400], Validation Acc: 80.4\n",
      "Epoch: [2/5], Step: [201/400], Validation Acc: 80.44\n",
      "Epoch: [2/5], Step: [301/400], Validation Acc: 80.54\n",
      "Epoch: [3/5], Step: [101/400], Validation Acc: 80.62\n",
      "Epoch: [3/5], Step: [201/400], Validation Acc: 80.98\n",
      "Epoch: [3/5], Step: [301/400], Validation Acc: 80.38\n",
      "Epoch: [4/5], Step: [101/400], Validation Acc: 80.62\n",
      "Epoch: [4/5], Step: [201/400], Validation Acc: 80.22\n",
      "Epoch: [4/5], Step: [301/400], Validation Acc: 80.66\n",
      "Epoch: [5/5], Step: [101/400], Validation Acc: 80.82\n",
      "Epoch: [5/5], Step: [201/400], Validation Acc: 80.94\n",
      "Epoch: [5/5], Step: [301/400], Validation Acc: 80.7\n",
      "After training for 5 epochs\n",
      "Val Acc 80.5\n",
      "\n",
      "\n",
      "\n"
     ]
    }
   ],
   "source": [
    "max_vocab_size = 30000\n",
    "PAD_IDX = 0\n",
    "UNK_IDX = 1\n",
    "def build_vocab(all_tokens):\n",
    "    # Returns:\n",
    "    # id2token: list of tokens, where id2token[i] returns token that corresponds to token i\n",
    "    # token2id: dictionary where keys represent tokens and corresponding values represent indices\n",
    "        token_counter = Counter(all_tokens)\n",
    "        vocab, count = zip(*token_counter.most_common(max_vocab_size))\n",
    "        id2token = list(vocab)\n",
    "        token2id = dict(zip(vocab, range(2,2+len(vocab)))) \n",
    "        id2token = ['<pad>', '<unk>'] + id2token\n",
    "        token2id['<pad>'] = PAD_IDX \n",
    "        token2id['<unk>'] = UNK_IDX\n",
    "        return token2id, id2token\n",
    "\n",
    "token2id, id2token = build_vocab(all_train_tokens_2grams)\n",
    "\n",
    "# convert token to id in the dataset\n",
    "train_data_indices = token2index_dataset(train_data_tokens_2grams)\n",
    "val_data_indices = token2index_dataset(val_data_tokens_2grams)\n",
    "test_data_indices = token2index_dataset(test_data_tokens_2grams)\n",
    "\n",
    "train_dataset = IMDBDataset(train_data_indices, train_targets)\n",
    "train_loader = torch.utils.data.DataLoader(dataset=train_dataset, \n",
    "                                       batch_size=BATCH_SIZE,\n",
    "                                       collate_fn=IMDB_collate_func,\n",
    "                                       shuffle=True)\n",
    "\n",
    "val_dataset = IMDBDataset(val_data_indices, val_targets)\n",
    "val_loader = torch.utils.data.DataLoader(dataset=val_dataset, \n",
    "                                           batch_size=BATCH_SIZE,\n",
    "                                           collate_fn=IMDB_collate_func,\n",
    "                                           shuffle=True)\n",
    "\n",
    "test_dataset = IMDBDataset(test_data_indices, test_targets)\n",
    "test_loader = torch.utils.data.DataLoader(dataset=test_dataset, \n",
    "                                           batch_size=BATCH_SIZE,\n",
    "                                           collate_fn=IMDB_collate_func,\n",
    "                                           shuffle=False)\n",
    "def test_model(loader, model):\n",
    "    \"\"\"\n",
    "    Help function that tests the model's performance on a dataset\n",
    "    @param: loader - data loader for the dataset to test against\n",
    "    \"\"\"\n",
    "    correct = 0\n",
    "    total = 0\n",
    "    model.eval()\n",
    "    for data, lengths, labels in loader:\n",
    "        data_batch, length_batch, label_batch = data, lengths, labels\n",
    "        outputs = F.softmax(model(data_batch, length_batch), dim=1)\n",
    "        predicted = outputs.max(1, keepdim=True)[1]\n",
    "        total += labels.size(0)\n",
    "        correct += predicted.eq(labels.view_as(predicted)).sum().item()\n",
    "    return (100 * correct / total)\n",
    "\n",
    "emb_dim = 100\n",
    "model = BagOfWords(len(id2token), emb_dim)\n",
    "\n",
    "\n",
    "for i in range(len(rate)):\n",
    "    learning_rate = rate[i]\n",
    "    num_epochs = 5 # number epoch to train\n",
    "    criterion = torch.nn.CrossEntropyLoss()  \n",
    "    optimizer = torch.optim.Adam(model.parameters(), lr=learning_rate)\n",
    "    print(\"-\"*20)\n",
    "    print('Learning Rate = ',rate[i])\n",
    "    for epoch in range(num_epochs):\n",
    "        sche\n",
    "        for i, (data, lengths, labels) in enumerate(train_loader):\n",
    "            model.train()\n",
    "            data_batch, length_batch, label_batch = data, lengths, labels\n",
    "            optimizer.zero_grad()\n",
    "            outputs = model(data_batch, length_batch)\n",
    "            loss = criterion(outputs, label_batch)\n",
    "            loss.backward()\n",
    "            optimizer.step()\n",
    "            # validate every 100 iterations\n",
    "            if i > 0 and i % 100 == 0:\n",
    "                # validate\n",
    "                val_acc = test_model(val_loader, model)\n",
    "                print('Epoch: [{}/{}], Step: [{}/{}], Validation Acc: {}'.format( \n",
    "                           epoch+1, num_epochs, i+1, len(train_loader), val_acc))\n",
    "    print (\"After training for {} epochs\".format(num_epochs))\n",
    "    print (\"Val Acc {}\".format(test_model(val_loader, model)))\n",
    "    print('\\n'*2)\n"
   ]
  },
  {
   "cell_type": "code",
   "execution_count": 189,
   "metadata": {},
   "outputs": [
    {
     "name": "stdout",
     "output_type": "stream",
     "text": [
      "Epoch: [1/5], Step: [101/400], Validation Acc: 0.02\n",
      "Epoch: [1/5], Step: [201/400], Validation Acc: 0.04\n",
      "Epoch: [1/5], Step: [301/400], Validation Acc: 0.08\n",
      "Epoch: [2/5], Step: [101/400], Validation Acc: 2.0\n",
      "Epoch: [2/5], Step: [201/400], Validation Acc: 4.5\n",
      "Epoch: [2/5], Step: [301/400], Validation Acc: 24.72\n",
      "Epoch: [3/5], Step: [101/400], Validation Acc: 33.76\n",
      "Epoch: [3/5], Step: [201/400], Validation Acc: 61.96\n",
      "Epoch: [3/5], Step: [301/400], Validation Acc: 62.6\n",
      "Epoch: [4/5], Step: [101/400], Validation Acc: 66.9\n",
      "Epoch: [4/5], Step: [201/400], Validation Acc: 71.6\n",
      "Epoch: [4/5], Step: [301/400], Validation Acc: 71.96\n",
      "Epoch: [5/5], Step: [101/400], Validation Acc: 66.62\n",
      "Epoch: [5/5], Step: [201/400], Validation Acc: 77.8\n",
      "Epoch: [5/5], Step: [301/400], Validation Acc: 79.34\n",
      "After training for 5 epochs\n",
      "Val Acc 78.84\n",
      "\n",
      "\n",
      "\n"
     ]
    }
   ],
   "source": [
    "max_vocab_size = 30000\n",
    "PAD_IDX = 0\n",
    "UNK_IDX = 1\n",
    "def build_vocab(all_tokens):\n",
    "    # Returns:\n",
    "    # id2token: list of tokens, where id2token[i] returns token that corresponds to token i\n",
    "    # token2id: dictionary where keys represent tokens and corresponding values represent indices\n",
    "        token_counter = Counter(all_tokens)\n",
    "        vocab, count = zip(*token_counter.most_common(max_vocab_size))\n",
    "        id2token = list(vocab)\n",
    "        token2id = dict(zip(vocab, range(2,2+len(vocab)))) \n",
    "        id2token = ['<pad>', '<unk>'] + id2token\n",
    "        token2id['<pad>'] = PAD_IDX \n",
    "        token2id['<unk>'] = UNK_IDX\n",
    "        return token2id, id2token\n",
    "\n",
    "token2id, id2token = build_vocab(all_train_tokens_2grams)\n",
    "\n",
    "# convert token to id in the dataset\n",
    "train_data_indices = token2index_dataset(train_data_tokens_2grams)\n",
    "val_data_indices = token2index_dataset(val_data_tokens_2grams)\n",
    "test_data_indices = token2index_dataset(test_data_tokens_2grams)\n",
    "\n",
    "train_dataset = IMDBDataset(train_data_indices, train_targets)\n",
    "train_loader = torch.utils.data.DataLoader(dataset=train_dataset, \n",
    "                                       batch_size=BATCH_SIZE,\n",
    "                                       collate_fn=IMDB_collate_func,\n",
    "                                       shuffle=True)\n",
    "\n",
    "val_dataset = IMDBDataset(val_data_indices, val_targets)\n",
    "val_loader = torch.utils.data.DataLoader(dataset=val_dataset, \n",
    "                                           batch_size=BATCH_SIZE,\n",
    "                                           collate_fn=IMDB_collate_func,\n",
    "                                           shuffle=True)\n",
    "\n",
    "test_dataset = IMDBDataset(test_data_indices, test_targets)\n",
    "test_loader = torch.utils.data.DataLoader(dataset=test_dataset, \n",
    "                                           batch_size=BATCH_SIZE,\n",
    "                                           collate_fn=IMDB_collate_func,\n",
    "                                           shuffle=False)\n",
    "def test_model(loader, model):\n",
    "    \"\"\"\n",
    "    Help function that tests the model's performance on a dataset\n",
    "    @param: loader - data loader for the dataset to test against\n",
    "    \"\"\"\n",
    "    correct = 0\n",
    "    total = 0\n",
    "    model.eval()\n",
    "    for data, lengths, labels in loader:\n",
    "        data_batch, length_batch, label_batch = data, lengths, labels\n",
    "        outputs = F.softmax(model(data_batch, length_batch), dim=1)\n",
    "        predicted = outputs.max(1, keepdim=True)[1]\n",
    "        total += labels.size(0)\n",
    "        correct += predicted.eq(labels.view_as(predicted)).sum().item()\n",
    "    return (100 * correct / total)\n",
    "\n",
    "emb_dim = 100\n",
    "model = BagOfWords(len(id2token), emb_dim)\n",
    "lambda2 = lambda epoch:0.01-0.005*epoch\n",
    "scheduler = torch.optim.lr_scheduler.LambdaLR(optimizer, lr_lambda=lambda2)\n",
    "\n",
    "\n",
    "\n",
    "num_epochs = 5 # number epoch to train\n",
    "criterion = torch.nn.CrossEntropyLoss()  \n",
    "optimizer = torch.optim.Adam(model.parameters(), lr=learning_rate)\n",
    "for epoch in range(num_epochs):\n",
    "    scheduler.step()\n",
    "    for i, (data, lengths, labels) in enumerate(train_loader):\n",
    "        model.train()\n",
    "        data_batch, length_batch, label_batch = data, lengths, labels\n",
    "        optimizer.zero_grad()\n",
    "        outputs = model(data_batch, length_batch)\n",
    "        loss = criterion(outputs, label_batch)\n",
    "        loss.backward()\n",
    "        optimizer.step()\n",
    "        # validate every 100 iterations\n",
    "        if i > 0 and i % 100 == 0:\n",
    "            # validate\n",
    "            val_acc = test_model(val_loader, model)\n",
    "            print('Epoch: [{}/{}], Step: [{}/{}], Validation Acc: {}'.format( \n",
    "                       epoch+1, num_epochs, i+1, len(train_loader), val_acc))\n",
    "print (\"After training for {} epochs\".format(num_epochs))\n",
    "print (\"Val Acc {}\".format(test_model(val_loader, model)))\n",
    "print('\\n'*2)\n"
   ]
  },
  {
   "cell_type": "markdown",
   "metadata": {},
   "source": [
    "# The best model"
   ]
  },
  {
   "cell_type": "code",
   "execution_count": 242,
   "metadata": {
    "scrolled": false
   },
   "outputs": [
    {
     "name": "stdout",
     "output_type": "stream",
     "text": [
      "Epoch: [1/5], Step: [101/400], Validation Acc: 1.1\n",
      "Epoch: [1/5], Step: [201/400], Validation Acc: 65.26\n",
      "Epoch: [1/5], Step: [301/400], Validation Acc: 76.5\n",
      "Epoch: [2/5], Step: [101/400], Validation Acc: 76.9\n",
      "Epoch: [2/5], Step: [201/400], Validation Acc: 86.92\n",
      "Epoch: [2/5], Step: [301/400], Validation Acc: 73.44\n",
      "Epoch: [3/5], Step: [101/400], Validation Acc: 76.16\n",
      "Epoch: [3/5], Step: [201/400], Validation Acc: 75.16\n",
      "Epoch: [3/5], Step: [301/400], Validation Acc: 78.58\n",
      "Epoch: [4/5], Step: [101/400], Validation Acc: 82.04\n",
      "Epoch: [4/5], Step: [201/400], Validation Acc: 82.26\n",
      "Epoch: [4/5], Step: [301/400], Validation Acc: 85.74\n",
      "Epoch: [5/5], Step: [101/400], Validation Acc: 76.28\n",
      "Epoch: [5/5], Step: [201/400], Validation Acc: 77.3\n",
      "Epoch: [5/5], Step: [301/400], Validation Acc: 81.88\n",
      "After training for 5 epochs\n",
      "Test Acc 85.692\n"
     ]
    }
   ],
   "source": [
    "max_vocab_size = 30000\n",
    "PAD_IDX = 0\n",
    "UNK_IDX = 1\n",
    "def build_vocab(all_tokens):\n",
    "    # Returns:\n",
    "    # id2token: list of tokens, where id2token[i] returns token that corresponds to token i\n",
    "    # token2id: dictionary where keys represent tokens and corresponding values represent indices\n",
    "        token_counter = Counter(all_tokens)\n",
    "        vocab, count = zip(*token_counter.most_common(max_vocab_size))\n",
    "        id2token = list(vocab)\n",
    "        token2id = dict(zip(vocab, range(2,2+len(vocab)))) \n",
    "        id2token = ['<pad>', '<unk>'] + id2token\n",
    "        token2id['<pad>'] = PAD_IDX \n",
    "        token2id['<unk>'] = UNK_IDX\n",
    "        return token2id, id2token\n",
    "\n",
    "token2id, id2token = build_vocab(all_train_tokens_2grams)\n",
    "\n",
    "# convert token to id in the dataset\n",
    "train_data_indices = token2index_dataset(train_data_tokens_2grams)\n",
    "val_data_indices = token2index_dataset(val_data_tokens_2grams)\n",
    "test_data_indices = token2index_dataset(test_data_tokens_2grams)\n",
    "\n",
    "train_dataset = IMDBDataset(train_data_indices, train_targets)\n",
    "train_loader = torch.utils.data.DataLoader(dataset=train_dataset, \n",
    "                                       batch_size=BATCH_SIZE,\n",
    "                                       collate_fn=IMDB_collate_func,\n",
    "                                       shuffle=True)\n",
    "\n",
    "val_dataset = IMDBDataset(val_data_indices, val_targets)\n",
    "val_loader = torch.utils.data.DataLoader(dataset=val_dataset, \n",
    "                                           batch_size=BATCH_SIZE,\n",
    "                                           collate_fn=IMDB_collate_func,\n",
    "                                           shuffle=True)\n",
    "\n",
    "test_dataset = IMDBDataset(test_data_indices, test_targets)\n",
    "test_loader = torch.utils.data.DataLoader(dataset=test_dataset, \n",
    "                                           batch_size=BATCH_SIZE,\n",
    "                                           collate_fn=IMDB_collate_func,\n",
    "                                           shuffle=False)\n",
    "\n",
    "emb_dim = 100\n",
    "model = BagOfWords(len(id2token), emb_dim)\n",
    "learning_rate = 0.005\n",
    "num_epochs = 5 # number epoch to train\n",
    "criterion = torch.nn.CrossEntropyLoss()  \n",
    "optimizer = torch.optim.Adam(model.parameters(), lr=learning_rate)\n",
    "train_curve = []\n",
    "val_curve = []\n",
    "for epoch in range(num_epochs):\n",
    "    for i, (data, lengths, labels) in enumerate(train_loader):\n",
    "        model.train()\n",
    "        data_batch, length_batch, label_batch = data, lengths, labels\n",
    "        optimizer.zero_grad()\n",
    "        outputs = model(data_batch, length_batch)\n",
    "        loss = criterion(outputs, label_batch)\n",
    "        loss.backward()\n",
    "        optimizer.step()\n",
    "        \n",
    "        # validate every 100 iterations\n",
    "        if i > 0 and i % 100 == 0:\n",
    "            # validate\n",
    "            val_acc = test_model(val_loader, model)\n",
    "            val_curve.append(val_acc)\n",
    "            print('Epoch: [{}/{}], Step: [{}/{}], Validation Acc: {}'.format( \n",
    "                       epoch+1, num_epochs, i+1, len(train_loader), val_acc))\n",
    "            \n",
    "            train_acc = test_model(train_loader,model)\n",
    "            train_curve.append(train_acc)\n",
    "            \n",
    "            \n",
    "print (\"After training for {} epochs\".format(num_epochs))\n",
    "print (\"Test Acc {}\".format(test_model(test_loader, model)))\n"
   ]
  },
  {
   "cell_type": "code",
   "execution_count": 250,
   "metadata": {},
   "outputs": [
    {
     "data": {
      "text/plain": [
       "<matplotlib.legend.Legend at 0x1c5ad2bac8>"
      ]
     },
     "execution_count": 250,
     "metadata": {},
     "output_type": "execute_result"
    },
    {
     "data": {
      "image/png": "[encoded data removed]",
      "text/plain": [
       "<Figure size 432x288 with 1 Axes>"
      ]
     },
     "metadata": {},
     "output_type": "display_data"
    }
   ],
   "source": [
    "plt.plot(train_curve,label = \"Train set\")\n",
    "plt.plot(val_curve,label= \"Validation set\")\n",
    "plt.title('Training Curve')\n",
    "plt.xlabel('Every 100 Iterations')\n",
    "plt.ylabel('Prediction Accuracy')\n",
    "plt.legend()"
   ]
  },
  {
   "cell_type": "code",
   "execution_count": 215,
   "metadata": {},
   "outputs": [],
   "source": [
    "cor_clf,incor_clf = cor_incor_clf(val_loader, model)"
   ]
  },
  {
   "cell_type": "code",
   "execution_count": 226,
   "metadata": {
    "scrolled": true
   },
   "outputs": [
    {
     "name": "stdout",
     "output_type": "stream",
     "text": [
      "Correct:\n",
      " ['I would have liked to give this movie a zero but that wasn\\'t an option!! This movie sucks!!! The women cannot act. i should have known it was gonna suck when i saw Bobby Brown. Nobody in my house could believe i hadn\\'t changed the channel after the first 15 minutes. the idea of black females as gunslingers in the western days is ridiculous. it\\'s not just a race thing, it\\'s also a gender. the combination of the two things is ridiculous.i am sorry because some of the people in the movie aren\\'t bad actors/actresses but the movie itself was awful. it was not credible as a movie. it might be \\'entertaining\\' to a certain group of people but i am not in that group. lol. and using a great line from a great, great movie...\"that\\'s all I have to say about that.\"', \"It's a waist to indulge such great actors in such a weak and boring movie. Besides all the unanswered questions posted in the other comments, what's so difficult about capturing the robbers? Just eliminate the bank workers, see who was at the bank-from all the cameras' footage angles-prior to the robbers entry and you have those extra 4 remaining robbers among the hostages. Where is the suspense every body is talking about? It was so obvious the moment the hostages were asked to change into this identical uniform that they were all going to walk out the front door... seen it many times. At least Mr. Spike Lee could have seasoned the movie with some good music score and artistic shooting. The Movie is not worth it. Pronto!\", 'This movie was so bad, outdated and stupid that I had rough times to watch it to the end. I had seen this Rodney guy in Natural Born Killers and I thought he was funny as hell in it, but this movie was crap. The \"jokes\" weren\\'t funny, actors weren\\'t funny, anything about it wasn\\'t even remotely funny. Don\\'t waste your time for this! Only positive things about this were the beautiful wives :) and Molly Shannon who I\\'m sure tried her best, but the script was just too awful. That\\'s why I rated it \"2\" instead of \"1\", but it\\'s definitely one of the worst films I\\'ve ever seen.']\n",
      "--------------------------------------------------------------------------------------------------------------------\n",
      "Incorrect:\n",
      " ['Unusual? Yes! Unusual setting for an American wartime movie, New Zealand. Unusual subject matter, four sisters and their relationships with American soldiers, from one bearing the illegitimate child of the dead son of a Senator, to another living with seven Marines (one at a time) before being murdered by her returning POW New Zealander husband. Unusual to see Paul Newman deliver such a poor performance so soon after his unforgettable role as Rocky Graziano in the brilliant \"Somebody Up There Loves Me\". Unusual for two fine \"Stars\" Joan Fontaine and Jean Simmons, to leave so little of themselves on a movie. Unusual that I could be bothered to write a review of such a poor film, give it a miss!', \"I am probably one of the few viewers who would not recommend this film. Thought visually stunning like all of Ang Lee's work (each still frame seems worthy of a print), I was really disappointed by the film's disjointed pace. It really was too long. The story is set in Civil War era Missouri, and is about a young man (Roedel) who joins the feral forces of the Bushwackers, sort of renegade Confederate sympathizers who conduct geurilla type fighting with the Jayhawkers, their Union counterparts. He and his close friend, Jack Bull Chiles played by Skeet Ulrich, join the group after Chile's father is shot point-blank and his home is burned, presumably by Jayhawkers. The story follows Roedel's and Chiles' raiding adventures and their interactions with other victims of the war, including former slave who fights for the Bushwhackers (Daniel Holt played by Jeffery Wright), and a war widow played by Jewel. It seemed that every time the film developed the story to an interesting point, it would turn to some other subplot and leave things undeveloped. For example, the agitation among Roedel's group caused by former slave Holt participating in the confederate cause is shown briefly through some conflict regarding propriety and protocol, and then dropped until later in the movie. A young villian/bully Bushwhacker hates Roedel and directs much angst and violence against him, but, we never know why. Some of the characters never seem to surface; I think that is because the movie embraces too many of them as well as taking on large amounts of history. The historical detail was excellent. I loved looking at the housing, furniture, clothes, etc., and I thought the lead actors did a wonderful job of humanizing the characters, though they stumbled a bit with the dialog. Unless you really enjoy history or are a huge Ang Lee fan, though, take a pass on this one.\", \"Movies have put me to sleep before, but no movie has ever done that twice, so it took me three sittings actually to finish it. The dialog was bad. Women spoke stiltedly and the men were caricatures. And two of the supposedly Japanese women looked Chinese, had Chinese names and spoke with clearly Chinese accents. I'm still trying to figure out why the Emmenthal men were sexually wrapped up with each other. 10 minus 8 1/2 equals a tough choice: Do I give this movie a rating of one? or two? Movies have put me to sleep before, but no movie has ever done that twice, so it took me three sittings actually to finish it. The dialog was bad. Women spoke stiltedly and the men were caricatures. And two of the supposedly Japanese women looked Chinese, had Chinese names and spoke with clearly Chinese accents. I'm still trying to figure out why the Emmenthal men were sexually wrapped up with each other. 10 minus 8 1/2 equals a tough choice: Do I give this movie a rating of one? or two?\"]\n"
     ]
    }
   ],
   "source": [
    "print('Correct:\\n',cor_clf[:3])\n",
    "print('--'*58)\n",
    "print('Incorrect:\\n',incor_clf[:3])\n"
   ]
  },
  {
   "cell_type": "code",
   "execution_count": null,
   "metadata": {},
   "outputs": [],
   "source": []
  }
 ],
 "metadata": {
  "kernelspec": {
   "display_name": "Python [conda env:nlpclass]",
   "language": "python",
   "name": "conda-env-nlpclass-py"
  },
  "language_info": {
   "codemirror_mode": {
    "name": "ipython",
    "version": 3
   },
   "file_extension": ".py",
   "mimetype": "text/x-python",
   "name": "python",
   "nbconvert_exporter": "python",
   "pygments_lexer": "ipython3",
   "version": "3.6.5"
  }
 },
 "nbformat": 4,
 "nbformat_minor": 2
}
